{
 "cells": [
  {
   "cell_type": "code",
   "execution_count": 1,
   "metadata": {
    "_cell_guid": "b1076dfc-b9ad-4769-8c92-a6c4dae69d19",
    "_uuid": "8f2839f25d086af736a60e9eeb907d3b93b6e0e5",
    "execution": {
     "iopub.execute_input": "2021-10-31T19:25:42.883856Z",
     "iopub.status.busy": "2021-10-31T19:25:42.883186Z",
     "iopub.status.idle": "2021-10-31T19:25:42.916039Z",
     "shell.execute_reply": "2021-10-31T19:25:42.915412Z",
     "shell.execute_reply.started": "2021-10-31T19:25:42.883747Z"
    }
   },
   "outputs": [],
   "source": [
    "# This Python 3 environment comes with many helpful analytics libraries installed\n",
    "# It is defined by the kaggle/python Docker image: https://github.com/kaggle/docker-python\n",
    "# For example, here's several helpful packages to load\n",
    "\n",
    "import numpy as np # linear algebra\n",
    "import pandas as pd # data processing, CSV file I/O (e.g. pd.read_csv)\n",
    "\n",
    "# Input data files are available in the read-only \"../input/\" directory\n",
    "# For example, running this (by clicking run or pressing Shift+Enter) will list all files under the input directory\n",
    "\n",
    "import os\n",
    "for dirname, _, filenames in os.walk('/kaggle/input'):\n",
    "    for filename in filenames:\n",
    "        print(os.path.join(dirname, filename))\n",
    "\n",
    "# You can write up to 20GB to the current directory (/kaggle/working/) that gets preserved as output when you create a version using \"Save & Run All\" \n",
    "# You can also write temporary files to /kaggle/temp/, but they won't be saved outside of the current session"
   ]
  },
  {
   "cell_type": "code",
   "execution_count": 2,
   "metadata": {
    "execution": {
     "iopub.execute_input": "2021-10-31T19:25:42.917736Z",
     "iopub.status.busy": "2021-10-31T19:25:42.917407Z",
     "iopub.status.idle": "2021-10-31T19:25:55.287522Z",
     "shell.execute_reply": "2021-10-31T19:25:55.286397Z",
     "shell.execute_reply.started": "2021-10-31T19:25:42.917708Z"
    }
   },
   "outputs": [],
   "source": [
    "import numpy as np\n",
    "import pandas as pd\n",
    "import matplotlib.pyplot as plt\n",
    "import seaborn as sns\n",
    "\n",
    "\n",
    "\n",
    "from sklearn.model_selection import cross_val_score,cross_val_predict, train_test_split\n",
    "from sklearn.preprocessing import OneHotEncoder,StandardScaler,PowerTransformer,LabelEncoder\n",
    "\n",
    "from sklearn.metrics import accuracy_score,classification_report, recall_score,confusion_matrix, roc_auc_score, precision_score, f1_score, roc_curve, auc, plot_confusion_matrix,plot_roc_curve\n",
    "\n",
    "\n",
    "import optuna\n",
    "import lightgbm as lgb\n",
    "from xgboost import XGBClassifier\n",
    "#from lightgbm import LGBMClassifier, plot_importance\n",
    "from catboost import CatBoostClassifier\n",
    "\n",
    "\n",
    "\n",
    "\n",
    "#importing plotly and cufflinks in offline mode\n",
    "import cufflinks as cf\n",
    "import plotly.offline\n",
    "cf.go_offline()\n",
    "cf.set_config_file(offline=False, world_readable=True)\n",
    "\n",
    "\n",
    "import plotly \n",
    "import plotly.express as px\n",
    "import plotly.graph_objs as go\n",
    "import plotly.offline as py\n",
    "from plotly.offline import iplot\n",
    "from plotly.subplots import make_subplots\n",
    "import plotly.figure_factory as ff\n",
    "\n",
    "import shap \n",
    "\n",
    "import missingno as msno\n",
    "\n",
    "import warnings\n",
    "warnings.filterwarnings(\"ignore\")"
   ]
  },
  {
   "cell_type": "code",
   "execution_count": 3,
   "metadata": {
    "execution": {
     "iopub.execute_input": "2021-10-31T19:25:55.289730Z",
     "iopub.status.busy": "2021-10-31T19:25:55.289383Z",
     "iopub.status.idle": "2021-10-31T19:25:55.315863Z",
     "shell.execute_reply": "2021-10-31T19:25:55.315156Z",
     "shell.execute_reply.started": "2021-10-31T19:25:55.289678Z"
    }
   },
   "outputs": [],
   "source": [
    "data = pd.read_csv(\"/kaggle/input/heart-failure-prediction/heart.csv\")"
   ]
  },
  {
   "cell_type": "code",
   "execution_count": 4,
   "metadata": {
    "execution": {
     "iopub.execute_input": "2021-10-31T19:25:55.318938Z",
     "iopub.status.busy": "2021-10-31T19:25:55.318429Z",
     "iopub.status.idle": "2021-10-31T19:25:55.333792Z",
     "shell.execute_reply": "2021-10-31T19:25:55.332273Z",
     "shell.execute_reply.started": "2021-10-31T19:25:55.318890Z"
    }
   },
   "outputs": [],
   "source": [
    "df = data.copy()"
   ]
  },
  {
   "cell_type": "code",
   "execution_count": 5,
   "metadata": {
    "execution": {
     "iopub.execute_input": "2021-10-31T19:25:55.336040Z",
     "iopub.status.busy": "2021-10-31T19:25:55.335533Z",
     "iopub.status.idle": "2021-10-31T19:25:55.389837Z",
     "shell.execute_reply": "2021-10-31T19:25:55.389041Z",
     "shell.execute_reply.started": "2021-10-31T19:25:55.336006Z"
    }
   },
   "outputs": [],
   "source": [
    "df.head()"
   ]
  },
  {
   "cell_type": "code",
   "execution_count": 8,
   "metadata": {
    "execution": {
     "iopub.execute_input": "2021-10-31T19:25:55.442055Z",
     "iopub.status.busy": "2021-10-31T19:25:55.441197Z",
     "iopub.status.idle": "2021-10-31T19:25:55.456007Z",
     "shell.execute_reply": "2021-10-31T19:25:55.455079Z",
     "shell.execute_reply.started": "2021-10-31T19:25:55.442007Z"
    }
   },
   "outputs": [],
   "source": [
    "df.info()"
   ]
  },
  {
   "cell_type": "code",
   "execution_count": null,
   "metadata": {
    "execution": {
     "iopub.execute_input": "2021-10-31T18:07:13.613145Z",
     "iopub.status.busy": "2021-10-31T18:07:13.61252Z",
     "iopub.status.idle": "2021-10-31T18:07:13.628026Z",
     "shell.execute_reply": "2021-10-31T18:07:13.626941Z",
     "shell.execute_reply.started": "2021-10-31T18:07:13.61311Z"
    }
   },
   "outputs": [],
   "source": [
    "df['Age'] = df['Age'].astype(float)\n",
    "df['MaxHR'] = df['MaxHR'].astype(float)\n",
    "df['Cholesterol'] = df['Cholesterol'].astype(float)\n",
    "df['RestingBP'] = df['RestingBP'].astype(float)\n",
    "df['FastingBS'] = df['FastingBS'].astype(float)\n",
    "\n"
   ]
  },
  {
   "cell_type": "code",
   "execution_count": null,
   "metadata": {
    "execution": {
     "iopub.execute_input": "2021-10-31T18:07:13.629922Z",
     "iopub.status.busy": "2021-10-31T18:07:13.629176Z",
     "iopub.status.idle": "2021-10-31T18:07:13.642597Z",
     "shell.execute_reply": "2021-10-31T18:07:13.641875Z",
     "shell.execute_reply.started": "2021-10-31T18:07:13.629879Z"
    }
   },
   "outputs": [],
   "source": [
    "df1 = df.copy()"
   ]
  },
  {
   "cell_type": "code",
   "execution_count": 9,
   "metadata": {
    "execution": {
     "iopub.execute_input": "2021-10-31T19:30:55.464911Z",
     "iopub.status.busy": "2021-10-31T19:30:55.464564Z",
     "iopub.status.idle": "2021-10-31T19:30:57.513947Z",
     "shell.execute_reply": "2021-10-31T19:30:57.512897Z",
     "shell.execute_reply.started": "2021-10-31T19:30:55.464879Z"
    }
   },
   "outputs": [],
   "source": [
    "accuracy= []\n",
    "recall =[]\n",
    "roc_auc= []\n",
    "precision = []\n",
    "\n",
    "\n",
    "df = pd.read_csv(\"/kaggle/input/heart-failure-prediction/heart.csv\")\n",
    "df1 = df.copy()\n",
    "le = LabelEncoder()\n",
    "df1['HeartDisease']=le.fit_transform(df1['HeartDisease'])\n",
    "\n",
    "df['Age'] = df['Age'].astype(float)\n",
    "df['MaxHR'] = df['MaxHR'].astype(float)\n",
    "df['Cholesterol'] = df['Cholesterol'].astype(float)\n",
    "df['RestingBP'] = df['RestingBP'].astype(float)\n",
    "df['FastingBS'] = df['FastingBS'].astype(float)\n",
    "\n",
    "\n",
    "\n",
    "\n",
    "\n",
    "X= df1.drop('HeartDisease', axis=1)\n",
    "y= df1['HeartDisease']\n",
    "\n",
    "categorical_features_indices = np.where(X.dtypes != np.float)[0]\n",
    "\n",
    "X_train, X_test, y_train, y_test = train_test_split(X, y, test_size=0.3, random_state=42)\n",
    "\n",
    "catboost_5 = CatBoostClassifier(verbose=False,random_state=0)\n",
    "\n",
    "catboost_5.fit(X_train, y_train,cat_features=categorical_features_indices,eval_set=(X_test, y_test),early_stopping_rounds=100)\n",
    "y_pred = catboost_5.predict(X_test)\n",
    "\n",
    "accuracy.append(round(accuracy_score(y_test, y_pred),4))\n",
    "recall.append(round(recall_score(y_test, y_pred),4))\n",
    "roc_auc.append(round(roc_auc_score(y_test, y_pred),4))\n",
    "precision.append(round(precision_score(y_test, y_pred),4))\n",
    "\n",
    "model_names = ['Catboost_adjusted_weight_5']\n",
    "result_df3 = pd.DataFrame({'Accuracy':accuracy,'Recall':recall, 'Roc_Auc':roc_auc, 'Precision':precision}, index=model_names)\n",
    "result_df3"
   ]
  },
  {
   "cell_type": "code",
   "execution_count": 11,
   "metadata": {
    "collapsed": true,
    "execution": {
     "iopub.execute_input": "2021-10-31T19:38:39.321207Z",
     "iopub.status.busy": "2021-10-31T19:38:39.320870Z",
     "iopub.status.idle": "2021-10-31T19:39:25.150390Z",
     "shell.execute_reply": "2021-10-31T19:39:25.149786Z",
     "shell.execute_reply.started": "2021-10-31T19:38:39.321171Z"
    },
    "jupyter": {
     "outputs_hidden": true
    }
   },
   "outputs": [],
   "source": [
    "def objective(trial):\n",
    "    \n",
    "    df = pd.read_csv(\"/kaggle/input/heart-failure-prediction/heart.csv\")\n",
    "    df1 = df.copy()\n",
    "    le = LabelEncoder()\n",
    "    df1['HeartDisease']=le.fit_transform(df1['HeartDisease'])\n",
    "\n",
    "    df['Age'] = df['Age'].astype(float)\n",
    "    df['MaxHR'] = df['MaxHR'].astype(float)\n",
    "    df['Cholesterol'] = df['Cholesterol'].astype(float)\n",
    "    df['RestingBP'] = df['RestingBP'].astype(float)\n",
    "    df['FastingBS'] = df['FastingBS'].astype(float)\n",
    "\n",
    "\n",
    "    X= df1.drop('HeartDisease', axis=1)\n",
    "    y= df1['HeartDisease']\n",
    "\n",
    "    categorical_features_indices = np.where(X.dtypes != np.float)[0]\n",
    "    \n",
    "    X_train, X_test, y_train, y_test = train_test_split(X, y, test_size=0.3, random_state=42)\n",
    "\n",
    "    param = {\n",
    "        \"objective\": \"Logloss\",\n",
    "        \"colsample_bylevel\": trial.suggest_float(\"colsample_bylevel\", 0.01, 0.1),\n",
    "        \"depth\": trial.suggest_int(\"depth\", 1, 12),\n",
    "        \"boosting_type\": trial.suggest_categorical(\"boosting_type\", [\"Ordered\", \"Plain\"]),\n",
    "        \"bootstrap_type\": trial.suggest_categorical(\n",
    "            \"bootstrap_type\", [\"Bayesian\", \"Bernoulli\", \"MVS\"]\n",
    "        ),\n",
    "        \"used_ram_limit\": \"3gb\",\n",
    "    }\n",
    "\n",
    "    if param[\"bootstrap_type\"] == \"Bayesian\":\n",
    "        param[\"bagging_temperature\"] = trial.suggest_float(\"bagging_temperature\", 0, 10)\n",
    "    elif param[\"bootstrap_type\"] == \"Bernoulli\":\n",
    "        param[\"subsample\"] = trial.suggest_float(\"subsample\", 0.1, 1)\n",
    "\n",
    "    cat_cls = CatBoostClassifier(verbose=False,random_state=0,**param)\n",
    "\n",
    "    cat_cls.fit(X_train, y_train, eval_set=[(X_test, y_test)], cat_features=categorical_features_indices,verbose=0, early_stopping_rounds=100)\n",
    "\n",
    "    preds = cat_cls.predict(X_test)\n",
    "    pred_labels = np.rint(preds)\n",
    "    accuracy = accuracy_score(y_test, pred_labels)\n",
    "    return accuracy\n",
    "\n",
    "\n",
    "if __name__ == \"__main__\":\n",
    "    study = optuna.create_study(direction=\"maximize\")\n",
    "    study.optimize(objective, n_trials=50, timeout=600)\n",
    "\n",
    "    print(\"Number of finished trials: {}\".format(len(study.trials)))\n",
    "\n",
    "    print(\"Best trial:\")\n",
    "    trial = study.best_trial\n",
    "\n",
    "    print(\"  Value: {}\".format(trial.value))\n",
    "\n",
    "    print(\"  Params: \")\n",
    "    for key, value in trial.params.items():\n",
    "        print(\"    {}: {}\".format(key, value))"
   ]
  },
  {
   "cell_type": "code",
   "execution_count": 12,
   "metadata": {
    "execution": {
     "iopub.execute_input": "2021-10-31T19:40:49.418294Z",
     "iopub.status.busy": "2021-10-31T19:40:49.418003Z",
     "iopub.status.idle": "2021-10-31T19:40:50.481923Z",
     "shell.execute_reply": "2021-10-31T19:40:50.481051Z",
     "shell.execute_reply.started": "2021-10-31T19:40:49.418265Z"
    },
    "jupyter": {
     "source_hidden": true
    }
   },
   "outputs": [],
   "source": [
    "accuracy= []\n",
    "recall =[]\n",
    "roc_auc= []\n",
    "precision = []\n",
    "\n",
    "\n",
    "df = pd.read_csv(\"/kaggle/input/heart-failure-prediction/heart.csv\")\n",
    "df1 = df.copy()\n",
    "le = LabelEncoder()\n",
    "df1['HeartDisease']=le.fit_transform(df1['HeartDisease'])\n",
    "\n",
    "df['Age'] = df['Age'].astype(float)\n",
    "df['MaxHR'] = df['MaxHR'].astype(float)\n",
    "df['Cholesterol'] = df['Cholesterol'].astype(float)\n",
    "df['RestingBP'] = df['RestingBP'].astype(float)\n",
    "df['FastingBS'] = df['FastingBS'].astype(float)\n",
    "\n",
    "\n",
    "\n",
    "\n",
    "\n",
    "X= df1.drop('HeartDisease', axis=1)\n",
    "y= df1['HeartDisease']\n",
    "\n",
    "categorical_features_indices = np.where(X.dtypes != np.float)[0]\n",
    "\n",
    "X_train, X_test, y_train, y_test = train_test_split(X, y, test_size=0.3, random_state=42)\n",
    "\n",
    "catboost_5 = CatBoostClassifier(verbose=False,random_state=0,colsample_bylevel= 0.059530780006608025,\n",
    "    depth = 10,\n",
    "    boosting_type = \"Plain\",\n",
    "    bootstrap_type= \"MVS\")\n",
    "\n",
    "catboost_5.fit(X_train, y_train,cat_features=categorical_features_indices,eval_set=(X_test, y_test),early_stopping_rounds=100)\n",
    "y_pred = catboost_5.predict(X_test)\n",
    "\n",
    "accuracy.append(round(accuracy_score(y_test, y_pred),4))\n",
    "recall.append(round(recall_score(y_test, y_pred),4))\n",
    "roc_auc.append(round(roc_auc_score(y_test, y_pred),4))\n",
    "precision.append(round(precision_score(y_test, y_pred),4))\n",
    "\n",
    "model_names = ['Catboost_adjusted_weight_5']\n",
    "result_df3 = pd.DataFrame({'Accuracy':accuracy,'Recall':recall, 'Roc_Auc':roc_auc, 'Precision':precision}, index=model_names)\n",
    "result_df3"
   ]
  },
  {
   "cell_type": "code",
   "execution_count": null,
   "metadata": {},
   "outputs": [],
   "source": []
  },
  {
   "cell_type": "code",
   "execution_count": null,
   "metadata": {
    "execution": {
     "iopub.execute_input": "2021-10-31T18:24:49.302409Z",
     "iopub.status.busy": "2021-10-31T18:24:49.302129Z",
     "iopub.status.idle": "2021-10-31T18:24:49.434282Z",
     "shell.execute_reply": "2021-10-31T18:24:49.433409Z",
     "shell.execute_reply.started": "2021-10-31T18:24:49.30238Z"
    },
    "jupyter": {
     "source_hidden": true
    }
   },
   "outputs": [],
   "source": [
    "accuracy= []\n",
    "recall =[]\n",
    "roc_auc= []\n",
    "precision = []\n",
    "\n",
    "\n",
    "df = pd.read_csv(\"/kaggle/input/heart-failure-prediction/heart.csv\")\n",
    "df1 = df.copy()\n",
    "le = LabelEncoder()\n",
    "df1['HeartDisease']=le.fit_transform(df1['HeartDisease'])\n",
    "\n",
    "df['Age'] = df['Age'].astype(float)\n",
    "df['MaxHR'] = df['MaxHR'].astype(float)\n",
    "df['Cholesterol'] = df['Cholesterol'].astype(float)\n",
    "df['RestingBP'] = df['RestingBP'].astype(float)\n",
    "df['FastingBS'] = df['FastingBS'].astype(float)\n",
    "\n",
    "\n",
    "\n",
    "\n",
    "\n",
    "X= df1.drop('HeartDisease', axis=1)\n",
    "y= df1['HeartDisease']\n",
    "\n",
    "\n",
    "for col in X.columns:\n",
    "    col_type = X[col].dtype\n",
    "    if col_type == 'object' or col_type.name == 'category':\n",
    "        X[col] = X[col].astype('category')\n",
    "\n",
    "X_train, X_test, y_train, y_test = train_test_split(X, y, test_size=0.3, random_state=42)\n",
    "\n",
    "lgbmc_5=lgb.LGBMClassifier(random_state=0,scale_pos_weight=5, num_leaves= 2)\n",
    "\n",
    "lgbmc_5.fit(X_train, y_train,categorical_feature = 'auto',eval_set=(X_test, y_test),feature_name='auto', verbose=0)\n",
    "\n",
    "y_pred = lgbmc_5.predict(X_test)\n",
    "\n",
    "accuracy.append(round(accuracy_score(y_test, y_pred),4))\n",
    "recall.append(round(recall_score(y_test, y_pred),4))\n",
    "roc_auc.append(round(roc_auc_score(y_test, y_pred),4))\n",
    "precision.append(round(precision_score(y_test, y_pred),4))\n",
    "\n",
    "model_names = ['LightGBM_adjusted_weight_5']\n",
    "result_df9 = pd.DataFrame({'Accuracy':accuracy,'Recall':recall, 'Roc_Auc':roc_auc, 'Precision':precision}, index=model_names)\n",
    "result_df9"
   ]
  },
  {
   "cell_type": "code",
   "execution_count": 17,
   "metadata": {
    "collapsed": true,
    "execution": {
     "iopub.execute_input": "2021-10-31T19:45:40.890674Z",
     "iopub.status.busy": "2021-10-31T19:45:40.890334Z",
     "iopub.status.idle": "2021-10-31T19:45:40.906570Z",
     "shell.execute_reply": "2021-10-31T19:45:40.905272Z",
     "shell.execute_reply.started": "2021-10-31T19:45:40.890642Z"
    },
    "jupyter": {
     "outputs_hidden": true
    }
   },
   "outputs": [],
   "source": [
    "X.info()"
   ]
  },
  {
   "cell_type": "code",
   "execution_count": 15,
   "metadata": {
    "collapsed": true,
    "execution": {
     "iopub.execute_input": "2021-10-31T19:45:17.234194Z",
     "iopub.status.busy": "2021-10-31T19:45:17.233402Z",
     "iopub.status.idle": "2021-10-31T19:45:17.242531Z",
     "shell.execute_reply": "2021-10-31T19:45:17.241603Z",
     "shell.execute_reply.started": "2021-10-31T19:45:17.234110Z"
    },
    "jupyter": {
     "outputs_hidden": true
    }
   },
   "outputs": [],
   "source": [
    "for col in X.columns:\n",
    "    col_type = X[col].dtype\n",
    "    print(col_type.name)\n",
    "    #if col_type == 'object' or col_type.name == 'category':\n",
    "       # X[col] = X[col].astype('category')\n",
    "\n"
   ]
  },
  {
   "cell_type": "code",
   "execution_count": null,
   "metadata": {},
   "outputs": [],
   "source": []
  },
  {
   "cell_type": "code",
   "execution_count": null,
   "metadata": {
    "execution": {
     "iopub.execute_input": "2021-10-31T18:28:25.950561Z",
     "iopub.status.busy": "2021-10-31T18:28:25.949975Z",
     "iopub.status.idle": "2021-10-31T18:28:42.515923Z",
     "shell.execute_reply": "2021-10-31T18:28:42.514825Z",
     "shell.execute_reply.started": "2021-10-31T18:28:25.95051Z"
    },
    "jupyter": {
     "source_hidden": true
    }
   },
   "outputs": [],
   "source": [
    "def objective(trial):\n",
    "    df = pd.read_csv(\"/kaggle/input/heart-failure-prediction/heart.csv\")\n",
    "    df1 = df.copy()\n",
    "    le = LabelEncoder()\n",
    "    df1['HeartDisease']=le.fit_transform(df1['HeartDisease'])\n",
    "\n",
    "    df['Age'] = df['Age'].astype(float)\n",
    "    df['MaxHR'] = df['MaxHR'].astype(float)\n",
    "    df['Cholesterol'] = df['Cholesterol'].astype(float)\n",
    "    df['RestingBP'] = df['RestingBP'].astype(float)\n",
    "    df['FastingBS'] = df['FastingBS'].astype(float)\n",
    "    \n",
    "    for col in X.columns:\n",
    "        col_type = X[col].dtype\n",
    "        if col_type == 'object' or col_type.name == 'category':\n",
    "            X[col] = X[col].astype('category')    \n",
    "    \n",
    "    param = {\n",
    "        \"objective\": \"binary\",\n",
    "        \"metric\": \"binary_logloss\",\n",
    "        \"verbosity\": -1,\n",
    "        \"boosting_type\": \"dart\",\n",
    "        \"num_leaves\": trial.suggest_int(\"num_leaves\", 2,2000),\n",
    "        \"max_depth\": trial.suggest_int(\"max_depth\", 3, 12),\n",
    "        \"lambda_l1\": trial.suggest_float(\"lambda_l1\", 1e-8, 10.0, log=True),\n",
    "        \"lambda_l2\": trial.suggest_float(\"lambda_l2\", 1e-8, 10.0, log=True),\n",
    "        \"num_leaves\": trial.suggest_int(\"num_leaves\", 2, 256),\n",
    "        \"feature_fraction\": trial.suggest_float(\"feature_fraction\", 0.4, 1.0),\n",
    "        \"bagging_fraction\": trial.suggest_float(\"bagging_fraction\", 0.4, 1.0),\n",
    "        \"bagging_freq\": trial.suggest_int(\"bagging_freq\", 1, 7),\n",
    "        \"min_child_samples\": trial.suggest_int(\"min_child_samples\", 5, 100),\n",
    "    }\n",
    "    \n",
    "    lgbmc_adj=lgb.LGBMClassifier(random_state=0,**param)\n",
    "    lgbmc_adj.fit(X_train, y_train,categorical_feature = 'auto',eval_set=(X_test, y_test),feature_name='auto', verbose=0)\n",
    "\n",
    "    preds = lgbmc_adj.predict(X_test)\n",
    "    pred_labels = np.rint(preds)\n",
    "    recall = recall_score(y_test, pred_labels)\n",
    "    return recall\n",
    "\n",
    "\n",
    "if __name__ == \"__main__\":\n",
    "    study = optuna.create_study(direction=\"maximize\")\n",
    "    study.optimize(objective, n_trials=100)\n",
    "\n",
    "    print(\"Number of finished trials: {}\".format(len(study.trials)))\n",
    "\n",
    "    print(\"Best trial:\")\n",
    "    trial = study.best_trial\n",
    "\n",
    "    print(\"  Value: {}\".format(trial.value))\n",
    "\n",
    "    print(\"  Params: \")\n",
    "    for key, value in trial.params.items():\n",
    "        print(\"    {}: {}\".format(key, value))"
   ]
  },
  {
   "cell_type": "code",
   "execution_count": null,
   "metadata": {},
   "outputs": [],
   "source": []
  },
  {
   "cell_type": "code",
   "execution_count": null,
   "metadata": {
    "execution": {
     "iopub.execute_input": "2021-10-31T18:30:08.089153Z",
     "iopub.status.busy": "2021-10-31T18:30:08.088695Z",
     "iopub.status.idle": "2021-10-31T18:30:08.227563Z",
     "shell.execute_reply": "2021-10-31T18:30:08.226887Z",
     "shell.execute_reply.started": "2021-10-31T18:30:08.089119Z"
    }
   },
   "outputs": [],
   "source": [
    "accuracy= []\n",
    "recall =[]\n",
    "roc_auc= []\n",
    "precision = []\n",
    "\n",
    "\n",
    "df = pd.read_csv(\"/kaggle/input/heart-failure-prediction/heart.csv\")\n",
    "df1 = df.copy()\n",
    "le = LabelEncoder()\n",
    "df1['HeartDisease']=le.fit_transform(df1['HeartDisease'])\n",
    "\n",
    "df['Age'] = df['Age'].astype(float)\n",
    "df['MaxHR'] = df['MaxHR'].astype(float)\n",
    "df['Cholesterol'] = df['Cholesterol'].astype(float)\n",
    "df['RestingBP'] = df['RestingBP'].astype(float)\n",
    "df['FastingBS'] = df['FastingBS'].astype(float)\n",
    "\n",
    "\n",
    "\n",
    "\n",
    "\n",
    "X= df1.drop('HeartDisease', axis=1)\n",
    "y= df1['HeartDisease']\n",
    "\n",
    "\n",
    "for col in X.columns:\n",
    "    col_type = X[col].dtype\n",
    "    if col_type == 'object' or col_type.name == 'category':\n",
    "        X[col] = X[col].astype('category')\n",
    "\n",
    "X_train, X_test, y_train, y_test = train_test_split(X, y, test_size=0.3, random_state=42)\n",
    "\n",
    "lgbmc_5=lgb.LGBMClassifier(random_state=0, num_leaves= 495,\n",
    "    max_depth= 10,\n",
    "    lambda_l1= 1.462539905997426,\n",
    "    lambda_l2= 2.5068794797011424,\n",
    "    feature_fraction= 0.512368850608734,\n",
    "    bagging_fraction= 0.701320405856735,\n",
    "    bagging_freq= 3,\n",
    "    min_child_samples= 11)\n",
    "\n",
    "lgbmc_5.fit(X_train, y_train,categorical_feature = 'auto',eval_set=(X_test, y_test),feature_name='auto', verbose=0,early_stopping_rounds=)\n",
    "\n",
    "y_pred = lgbmc_5.predict(X_test)\n",
    "\n",
    "accuracy.append(round(accuracy_score(y_test, y_pred),4))\n",
    "recall.append(round(recall_score(y_test, y_pred),4))\n",
    "roc_auc.append(round(roc_auc_score(y_test, y_pred),4))\n",
    "precision.append(round(precision_score(y_test, y_pred),4))\n",
    "\n",
    "model_names = ['LightGBM_adjusted_weight_5']\n",
    "result_df9 = pd.DataFrame({'Accuracy':accuracy,'Recall':recall, 'Roc_Auc':roc_auc, 'Precision':precision}, index=model_names)\n",
    "result_df9"
   ]
  }
 ],
 "metadata": {
  "kernelspec": {
   "display_name": "Python 3",
   "language": "python",
   "name": "python3"
  },
  "language_info": {
   "codemirror_mode": {
    "name": "ipython",
    "version": 3
   },
   "file_extension": ".py",
   "mimetype": "text/x-python",
   "name": "python",
   "nbconvert_exporter": "python",
   "pygments_lexer": "ipython3",
   "version": "3.8.5"
  }
 },
 "nbformat": 4,
 "nbformat_minor": 4
}
