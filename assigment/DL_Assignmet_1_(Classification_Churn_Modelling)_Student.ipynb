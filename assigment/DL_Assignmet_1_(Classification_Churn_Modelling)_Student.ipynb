{
  "nbformat": 4,
  "nbformat_minor": 0,
  "metadata": {
    "colab": {
      "name": "DL-Assignmet-1 (Classification-Churn_Modelling)-Student.ipynb",
      "provenance": [],
      "collapsed_sections": []
    },
    "kernelspec": {
      "display_name": "Python 3",
      "language": "python",
      "name": "python3"
    },
    "language_info": {
      "codemirror_mode": {
        "name": "ipython",
        "version": 3
      },
      "file_extension": ".py",
      "mimetype": "text/x-python",
      "name": "python",
      "nbconvert_exporter": "python",
      "pygments_lexer": "ipython3",
      "version": "3.7.6"
    }
  },
  "cells": [
    {
      "cell_type": "markdown",
      "metadata": {
        "id": "iQtLnnNUO3pH"
      },
      "source": [
        "# Churn Prediction For Bank Customer"
      ]
    },
    {
      "cell_type": "markdown",
      "metadata": {
        "id": "UP1Q_0L-O3pQ"
      },
      "source": [
        "We have a dataset in which there are details of a bank's customers and the target variable is a binary variable reflecting the fact whether the customer left the bank (closed his account) or he continues to be a customer."
      ]
    },
    {
      "cell_type": "markdown",
      "metadata": {
        "id": "61io8aEUO3pS"
      },
      "source": [
        "## Improt Libraries"
      ]
    },
    {
      "cell_type": "code",
      "metadata": {
        "id": "6VAliUlMO3pT"
      },
      "source": [
        ""
      ],
      "execution_count": null,
      "outputs": []
    },
    {
      "cell_type": "markdown",
      "metadata": {
        "id": "4IawuEmUO3pV"
      },
      "source": [
        "## Indest Data"
      ]
    },
    {
      "cell_type": "code",
      "metadata": {
        "id": "VTlA0Ce_O3pV"
      },
      "source": [
        ""
      ],
      "execution_count": null,
      "outputs": []
    },
    {
      "cell_type": "markdown",
      "metadata": {
        "id": "6oK2fOlGO3pW"
      },
      "source": [
        "## Exploratory Data Analysis and Visualization"
      ]
    },
    {
      "cell_type": "markdown",
      "metadata": {
        "id": "bA2fwmPFO3pY"
      },
      "source": [
        "1. Implement basic steps to see how is your data looks like\n",
        "2. Check for missing values\n",
        "3. Drop the features that not suitable for modelling\n",
        "4. Implement basic visualization steps such as histogram, countplot, heatmap\n",
        "5. Convert categorical variables to dummy variables"
      ]
    },
    {
      "cell_type": "code",
      "metadata": {
        "id": "ygiyOreRO3pa"
      },
      "source": [
        ""
      ],
      "execution_count": null,
      "outputs": []
    },
    {
      "cell_type": "markdown",
      "metadata": {
        "id": "mPmgf6WVO3pb"
      },
      "source": [
        "## Preprocessing of Data\n",
        "- Train | Test Split, Scalling"
      ]
    },
    {
      "cell_type": "code",
      "metadata": {
        "id": "4c1befR4O3pd"
      },
      "source": [
        ""
      ],
      "execution_count": null,
      "outputs": []
    },
    {
      "cell_type": "markdown",
      "metadata": {
        "id": "Ha9hDt_AoGaE"
      },
      "source": [
        "## Modelling & Model Performance"
      ]
    },
    {
      "cell_type": "markdown",
      "metadata": {
        "id": "WxAGVhK7O3pf"
      },
      "source": [
        "### Import related libraries"
      ]
    },
    {
      "cell_type": "code",
      "metadata": {
        "id": "WqT19XyXO3pg"
      },
      "source": [
        ""
      ],
      "execution_count": null,
      "outputs": []
    },
    {
      "cell_type": "markdown",
      "metadata": {
        "id": "I_gV9EMxO3ph"
      },
      "source": [
        "### Creating Model"
      ]
    },
    {
      "cell_type": "markdown",
      "metadata": {
        "id": "JqiFIEcRO3pi"
      },
      "source": [
        "### without class_weigth"
      ]
    },
    {
      "cell_type": "code",
      "metadata": {
        "id": "rjs0OAMcO3pi"
      },
      "source": [
        ""
      ],
      "execution_count": null,
      "outputs": []
    },
    {
      "cell_type": "markdown",
      "metadata": {
        "id": "MYnzyEXkO3pj"
      },
      "source": [
        "#### Evaluate"
      ]
    },
    {
      "cell_type": "code",
      "metadata": {
        "id": "e2vr2Rw3O3pj"
      },
      "source": [
        ""
      ],
      "execution_count": null,
      "outputs": []
    },
    {
      "cell_type": "markdown",
      "metadata": {
        "id": "qm8PPTt8O3pk"
      },
      "source": [
        "### with class_weigth\n",
        "\n",
        "Investigate how the \"class_weight\" hyper-parameter is used in a Neural Network."
      ]
    },
    {
      "cell_type": "code",
      "metadata": {
        "id": "u89LJP9-O3pl"
      },
      "source": [
        ""
      ],
      "execution_count": null,
      "outputs": []
    },
    {
      "cell_type": "markdown",
      "metadata": {
        "id": "0qxyiYCzO3pl"
      },
      "source": [
        "#### Evaluate"
      ]
    },
    {
      "cell_type": "code",
      "metadata": {
        "id": "ttk94Oh1O3pm"
      },
      "source": [
        ""
      ],
      "execution_count": null,
      "outputs": []
    },
    {
      "cell_type": "markdown",
      "metadata": {
        "id": "kI-npay9O3pm"
      },
      "source": [
        "## GridSearchCV"
      ]
    },
    {
      "cell_type": "code",
      "metadata": {
        "id": "LfdZgx6KO3pn"
      },
      "source": [
        ""
      ],
      "execution_count": null,
      "outputs": []
    },
    {
      "cell_type": "markdown",
      "metadata": {
        "id": "FUhATicMO3pn"
      },
      "source": [
        "#### Evaluate"
      ]
    },
    {
      "cell_type": "code",
      "metadata": {
        "id": "SDN_dXjIO3pn"
      },
      "source": [
        ""
      ],
      "execution_count": null,
      "outputs": []
    },
    {
      "cell_type": "markdown",
      "metadata": {
        "id": "8JYbPquFO3po"
      },
      "source": [
        "## Final Model and Model Deployment"
      ]
    },
    {
      "cell_type": "code",
      "metadata": {
        "id": "rxdqqh_CO3po"
      },
      "source": [
        ""
      ],
      "execution_count": null,
      "outputs": []
    },
    {
      "cell_type": "markdown",
      "metadata": {
        "id": "Cq10ovAX6daY"
      },
      "source": [
        "### Prediction"
      ]
    },
    {
      "cell_type": "code",
      "metadata": {
        "id": "s2X7foN7O3pp"
      },
      "source": [
        ""
      ],
      "execution_count": null,
      "outputs": []
    }
  ]
}