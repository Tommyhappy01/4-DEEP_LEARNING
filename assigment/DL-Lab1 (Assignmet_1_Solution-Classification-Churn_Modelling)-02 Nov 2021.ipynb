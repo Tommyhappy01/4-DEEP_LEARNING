{
 "cells": [
  {
   "cell_type": "markdown",
   "metadata": {},
   "source": [
    "# Keras Classification"
   ]
  },
  {
   "cell_type": "markdown",
   "metadata": {},
   "source": [
    "<span class=\"girk\">We have a dataset in which there are details of a bank's customers and the target variable is a binary variable reflecting the fact whether the customer left the bank (closed his account) or he continues to be a customer.</span>"
   ]
  },
  {
   "cell_type": "markdown",
   "metadata": {},
   "source": [
    "---\n",
    "---"
   ]
  },
  {
   "cell_type": "markdown",
   "metadata": {
    "cell_style": "center"
   },
   "source": [
    "## Import  libraries & data"
   ]
  },
  {
   "cell_type": "code",
   "execution_count": 1,
   "metadata": {
    "cell_style": "center",
    "executionInfo": {
     "elapsed": 991,
     "status": "ok",
     "timestamp": 1610201325502,
     "user": {
      "displayName": "Richard C",
      "photoUrl": "",
      "userId": "08040814671867660929"
     },
     "user_tz": -180
    },
    "id": "6VD4eWBQcze2"
   },
   "outputs": [],
   "source": [
    "import numpy as np\n",
    "import pandas as pd\n",
    "import seaborn as sns\n",
    "import matplotlib.pyplot as plt\n",
    "\n",
    "%matplotlib inline\n",
    "# %matplotlib notebook\n",
    "plt.rcParams[\"figure.figsize\"] = (12, 6)\n",
    "# plt.rcParams['figure.dpi'] = 100\n",
    "sns.set_style(\"whitegrid\")\n",
    "import warnings\n",
    "\n",
    "warnings.filterwarnings(\"ignore\")\n",
    "warnings.warn(\"this will not show\")\n",
    "pd.set_option('display.float_format', lambda x: '%.3f' % x)"
   ]
  },
  {
   "cell_type": "code",
   "execution_count": 2,
   "metadata": {
    "cell_style": "center",
    "executionInfo": {
     "elapsed": 829,
     "status": "ok",
     "timestamp": 1610204616389,
     "user": {
      "displayName": "Richard C",
      "photoUrl": "",
      "userId": "08040814671867660929"
     },
     "user_tz": -180
    },
    "id": "YzzxpfNaoFyZ"
   },
   "outputs": [],
   "source": [
    "from tensorflow.keras.models import Sequential\n",
    "from tensorflow.keras.layers import Dense, Activation, Dropout\n",
    "from tensorflow.keras.callbacks import EarlyStopping\n",
    "from tensorflow.keras.optimizers import Adam\n",
    "from sklearn.metrics import classification_report, confusion_matrix\n",
    "from sklearn.metrics import roc_auc_score, roc_curve, precision_recall_curve, average_precision_score\n",
    "from sklearn.model_selection import cross_val_score, cross_validate\n",
    "from sklearn.model_selection import GridSearchCV"
   ]
  },
  {
   "cell_type": "code",
   "execution_count": 3,
   "metadata": {},
   "outputs": [
    {
     "data": {
      "text/html": [
       "<div>\n",
       "<style scoped>\n",
       "    .dataframe tbody tr th:only-of-type {\n",
       "        vertical-align: middle;\n",
       "    }\n",
       "\n",
       "    .dataframe tbody tr th {\n",
       "        vertical-align: top;\n",
       "    }\n",
       "\n",
       "    .dataframe thead th {\n",
       "        text-align: right;\n",
       "    }\n",
       "</style>\n",
       "<table border=\"1\" class=\"dataframe\">\n",
       "  <thead>\n",
       "    <tr style=\"text-align: right;\">\n",
       "      <th></th>\n",
       "      <th>CustomerId</th>\n",
       "      <th>Surname</th>\n",
       "      <th>CreditScore</th>\n",
       "      <th>Geography</th>\n",
       "      <th>Gender</th>\n",
       "      <th>Age</th>\n",
       "      <th>Tenure</th>\n",
       "      <th>Balance</th>\n",
       "      <th>NumOfProducts</th>\n",
       "      <th>HasCrCard</th>\n",
       "      <th>IsActiveMember</th>\n",
       "      <th>EstimatedSalary</th>\n",
       "      <th>Exited</th>\n",
       "    </tr>\n",
       "    <tr>\n",
       "      <th>RowNumber</th>\n",
       "      <th></th>\n",
       "      <th></th>\n",
       "      <th></th>\n",
       "      <th></th>\n",
       "      <th></th>\n",
       "      <th></th>\n",
       "      <th></th>\n",
       "      <th></th>\n",
       "      <th></th>\n",
       "      <th></th>\n",
       "      <th></th>\n",
       "      <th></th>\n",
       "      <th></th>\n",
       "    </tr>\n",
       "  </thead>\n",
       "  <tbody>\n",
       "    <tr>\n",
       "      <th>1</th>\n",
       "      <td>15634602</td>\n",
       "      <td>Hargrave</td>\n",
       "      <td>619</td>\n",
       "      <td>France</td>\n",
       "      <td>Female</td>\n",
       "      <td>42</td>\n",
       "      <td>2</td>\n",
       "      <td>0.000</td>\n",
       "      <td>1</td>\n",
       "      <td>1</td>\n",
       "      <td>1</td>\n",
       "      <td>101348.880</td>\n",
       "      <td>1</td>\n",
       "    </tr>\n",
       "    <tr>\n",
       "      <th>2</th>\n",
       "      <td>15647311</td>\n",
       "      <td>Hill</td>\n",
       "      <td>608</td>\n",
       "      <td>Spain</td>\n",
       "      <td>Female</td>\n",
       "      <td>41</td>\n",
       "      <td>1</td>\n",
       "      <td>83807.860</td>\n",
       "      <td>1</td>\n",
       "      <td>0</td>\n",
       "      <td>1</td>\n",
       "      <td>112542.580</td>\n",
       "      <td>0</td>\n",
       "    </tr>\n",
       "    <tr>\n",
       "      <th>3</th>\n",
       "      <td>15619304</td>\n",
       "      <td>Onio</td>\n",
       "      <td>502</td>\n",
       "      <td>France</td>\n",
       "      <td>Female</td>\n",
       "      <td>42</td>\n",
       "      <td>8</td>\n",
       "      <td>159660.800</td>\n",
       "      <td>3</td>\n",
       "      <td>1</td>\n",
       "      <td>0</td>\n",
       "      <td>113931.570</td>\n",
       "      <td>1</td>\n",
       "    </tr>\n",
       "    <tr>\n",
       "      <th>4</th>\n",
       "      <td>15701354</td>\n",
       "      <td>Boni</td>\n",
       "      <td>699</td>\n",
       "      <td>France</td>\n",
       "      <td>Female</td>\n",
       "      <td>39</td>\n",
       "      <td>1</td>\n",
       "      <td>0.000</td>\n",
       "      <td>2</td>\n",
       "      <td>0</td>\n",
       "      <td>0</td>\n",
       "      <td>93826.630</td>\n",
       "      <td>0</td>\n",
       "    </tr>\n",
       "    <tr>\n",
       "      <th>5</th>\n",
       "      <td>15737888</td>\n",
       "      <td>Mitchell</td>\n",
       "      <td>850</td>\n",
       "      <td>Spain</td>\n",
       "      <td>Female</td>\n",
       "      <td>43</td>\n",
       "      <td>2</td>\n",
       "      <td>125510.820</td>\n",
       "      <td>1</td>\n",
       "      <td>1</td>\n",
       "      <td>1</td>\n",
       "      <td>79084.100</td>\n",
       "      <td>0</td>\n",
       "    </tr>\n",
       "  </tbody>\n",
       "</table>\n",
       "</div>"
      ],
      "text/plain": [
       "           CustomerId   Surname  CreditScore Geography  Gender  Age  Tenure  \\\n",
       "RowNumber                                                                     \n",
       "1            15634602  Hargrave          619    France  Female   42       2   \n",
       "2            15647311      Hill          608     Spain  Female   41       1   \n",
       "3            15619304      Onio          502    France  Female   42       8   \n",
       "4            15701354      Boni          699    France  Female   39       1   \n",
       "5            15737888  Mitchell          850     Spain  Female   43       2   \n",
       "\n",
       "             Balance  NumOfProducts  HasCrCard  IsActiveMember  \\\n",
       "RowNumber                                                        \n",
       "1              0.000              1          1               1   \n",
       "2          83807.860              1          0               1   \n",
       "3         159660.800              3          1               0   \n",
       "4              0.000              2          0               0   \n",
       "5         125510.820              1          1               1   \n",
       "\n",
       "           EstimatedSalary  Exited  \n",
       "RowNumber                           \n",
       "1               101348.880       1  \n",
       "2               112542.580       0  \n",
       "3               113931.570       1  \n",
       "4                93826.630       0  \n",
       "5                79084.100       0  "
      ]
     },
     "execution_count": 3,
     "metadata": {},
     "output_type": "execute_result"
    }
   ],
   "source": [
    "df = pd.read_csv(\"Churn_Modelling.csv\", index_col='RowNumber')\n",
    "df.head()"
   ]
  },
  {
   "cell_type": "markdown",
   "metadata": {},
   "source": [
    "## Exploratory Data Analysis and Visualization"
   ]
  },
  {
   "cell_type": "code",
   "execution_count": 25,
   "metadata": {},
   "outputs": [
    {
     "name": "stdout",
     "output_type": "stream",
     "text": [
      "Requirement already satisfied: pandasgui in c:\\users\\ökten\\appdata\\roaming\\python\\python38\\site-packages (0.2.13)\n",
      "Requirement already satisfied: IPython in c:\\programdata\\anaconda3\\lib\\site-packages (from pandasgui) (7.19.0)\n",
      "Requirement already satisfied: plotly in c:\\programdata\\anaconda3\\lib\\site-packages (from pandasgui) (5.1.0)\n",
      "Requirement already satisfied: setuptools in c:\\programdata\\anaconda3\\lib\\site-packages (from pandasgui) (50.3.1.post20201107)\n",
      "Requirement already satisfied: pandas in c:\\users\\ökten\\appdata\\roaming\\python\\python38\\site-packages (from pandasgui) (1.3.3)\n",
      "Requirement already satisfied: PyQt5 in c:\\users\\ökten\\appdata\\roaming\\python\\python38\\site-packages (from pandasgui) (5.15.6)\n",
      "Requirement already satisfied: PyQt5-sip in c:\\programdata\\anaconda3\\lib\\site-packages (from pandasgui) (12.9.0)\n",
      "Requirement already satisfied: pynput in c:\\users\\ökten\\appdata\\roaming\\python\\python38\\site-packages (from pandasgui) (1.7.4)\n",
      "Requirement already satisfied: appdirs in c:\\users\\ökten\\appdata\\roaming\\python\\python38\\site-packages (from pandasgui) (1.4.4)\n",
      "Requirement already satisfied: astor in c:\\users\\ökten\\appdata\\roaming\\python\\python38\\site-packages (from pandasgui) (0.8.1)\n",
      "Requirement already satisfied: wordcloud in c:\\users\\ökten\\appdata\\roaming\\python\\python38\\site-packages (from pandasgui) (1.8.1)\n",
      "Requirement already satisfied: qtstylish>=0.1.2 in c:\\users\\ökten\\appdata\\roaming\\python\\python38\\site-packages (from pandasgui) (0.1.5)\n",
      "Requirement already satisfied: PyQtWebEngine in c:\\users\\ökten\\appdata\\roaming\\python\\python38\\site-packages (from pandasgui) (5.15.5)\n",
      "Requirement already satisfied: pyarrow in c:\\users\\ökten\\appdata\\roaming\\python\\python38\\site-packages (from pandasgui) (6.0.0)\n",
      "Requirement already satisfied: numpy in c:\\programdata\\anaconda3\\lib\\site-packages (from pandasgui) (1.19.2)\n",
      "Requirement already satisfied: typing-extensions in c:\\programdata\\anaconda3\\lib\\site-packages (from pandasgui) (3.7.4.3)\n",
      "Requirement already satisfied: traitlets>=4.2 in c:\\programdata\\anaconda3\\lib\\site-packages (from IPython->pandasgui) (5.0.5)\n",
      "Requirement already satisfied: pickleshare in c:\\programdata\\anaconda3\\lib\\site-packages (from IPython->pandasgui) (0.7.5)\n",
      "Requirement already satisfied: jedi>=0.10 in c:\\programdata\\anaconda3\\lib\\site-packages (from IPython->pandasgui) (0.17.1)\n",
      "Requirement already satisfied: pygments in c:\\programdata\\anaconda3\\lib\\site-packages (from IPython->pandasgui) (2.7.2)\n",
      "Requirement already satisfied: colorama; sys_platform == \"win32\" in c:\\programdata\\anaconda3\\lib\\site-packages (from IPython->pandasgui) (0.4.4)\n",
      "Requirement already satisfied: prompt-toolkit!=3.0.0,!=3.0.1,<3.1.0,>=2.0.0 in c:\\programdata\\anaconda3\\lib\\site-packages (from IPython->pandasgui) (3.0.8)\n",
      "Requirement already satisfied: backcall in c:\\programdata\\anaconda3\\lib\\site-packages (from IPython->pandasgui) (0.2.0)\n",
      "Requirement already satisfied: decorator in c:\\programdata\\anaconda3\\lib\\site-packages (from IPython->pandasgui) (4.4.2)\n",
      "Requirement already satisfied: tenacity>=6.2.0 in c:\\programdata\\anaconda3\\lib\\site-packages (from plotly->pandasgui) (7.0.0)\n",
      "Requirement already satisfied: six in c:\\programdata\\anaconda3\\lib\\site-packages (from plotly->pandasgui) (1.15.0)\n",
      "Requirement already satisfied: pytz>=2017.3 in c:\\programdata\\anaconda3\\lib\\site-packages (from pandas->pandasgui) (2020.1)\n",
      "Requirement already satisfied: python-dateutil>=2.7.3 in c:\\programdata\\anaconda3\\lib\\site-packages (from pandas->pandasgui) (2.8.1)\n",
      "Requirement already satisfied: PyQt5-Qt5>=5.15.2 in c:\\programdata\\anaconda3\\lib\\site-packages (from PyQt5->pandasgui) (5.15.2)\n",
      "Requirement already satisfied: matplotlib in c:\\users\\ökten\\appdata\\roaming\\python\\python38\\site-packages (from wordcloud->pandasgui) (3.4.3)\n",
      "Requirement already satisfied: pillow in c:\\programdata\\anaconda3\\lib\\site-packages (from wordcloud->pandasgui) (8.0.1)\n",
      "Requirement already satisfied: PyQtWebEngine-Qt5>=5.15.2 in c:\\users\\ökten\\appdata\\roaming\\python\\python38\\site-packages (from PyQtWebEngine->pandasgui) (5.15.2)\n",
      "Requirement already satisfied: ipython-genutils in c:\\programdata\\anaconda3\\lib\\site-packages (from traitlets>=4.2->IPython->pandasgui) (0.2.0)\n",
      "Requirement already satisfied: parso<0.8.0,>=0.7.0 in c:\\programdata\\anaconda3\\lib\\site-packages (from jedi>=0.10->IPython->pandasgui) (0.7.0)\n",
      "Requirement already satisfied: wcwidth in c:\\programdata\\anaconda3\\lib\\site-packages (from prompt-toolkit!=3.0.0,!=3.0.1,<3.1.0,>=2.0.0->IPython->pandasgui) (0.2.5)\n",
      "Requirement already satisfied: kiwisolver>=1.0.1 in c:\\programdata\\anaconda3\\lib\\site-packages (from matplotlib->wordcloud->pandasgui) (1.3.0)\n",
      "Requirement already satisfied: pyparsing>=2.2.1 in c:\\programdata\\anaconda3\\lib\\site-packages (from matplotlib->wordcloud->pandasgui) (2.4.7)\n",
      "Requirement already satisfied: cycler>=0.10 in c:\\programdata\\anaconda3\\lib\\site-packages (from matplotlib->wordcloud->pandasgui) (0.10.0)\n"
     ]
    }
   ],
   "source": [
    "!pip install pandasgui "
   ]
  },
  {
   "cell_type": "code",
   "execution_count": 57,
   "metadata": {},
   "outputs": [
    {
     "ename": "SyntaxError",
     "evalue": "invalid syntax (<ipython-input-57-7065b408e3f1>, line 2)",
     "output_type": "error",
     "traceback": [
      "\u001b[1;36m  File \u001b[1;32m\"<ipython-input-57-7065b408e3f1>\"\u001b[1;36m, line \u001b[1;32m2\u001b[0m\n\u001b[1;33m    pip install pandasgui\u001b[0m\n\u001b[1;37m        ^\u001b[0m\n\u001b[1;31mSyntaxError\u001b[0m\u001b[1;31m:\u001b[0m invalid syntax\n"
     ]
    }
   ],
   "source": [
    "from pandasgui import show\n",
    "\n",
    "gui = show(df)  # bu önemli nuna bakılmalı"
   ]
  },
  {
   "cell_type": "code",
   "execution_count": 26,
   "metadata": {
    "cell_style": "split",
    "colab": {
     "base_uri": "https://localhost:8080/"
    },
    "executionInfo": {
     "elapsed": 854,
     "status": "ok",
     "timestamp": 1610201704635,
     "user": {
      "displayName": "Richard C",
      "photoUrl": "",
      "userId": "08040814671867660929"
     },
     "user_tz": -180
    },
    "id": "9ROCQa9wf2uE",
    "outputId": "40e94921-6a7c-48c6-8c09-2623b6b60fa3",
    "scrolled": false
   },
   "outputs": [
    {
     "name": "stdout",
     "output_type": "stream",
     "text": [
      "<class 'pandas.core.frame.DataFrame'>\n",
      "Int64Index: 10000 entries, 1 to 10000\n",
      "Data columns (total 13 columns):\n",
      " #   Column           Non-Null Count  Dtype  \n",
      "---  ------           --------------  -----  \n",
      " 0   CustomerId       10000 non-null  int64  \n",
      " 1   Surname          10000 non-null  object \n",
      " 2   CreditScore      10000 non-null  int64  \n",
      " 3   Geography        10000 non-null  object \n",
      " 4   Gender           10000 non-null  object \n",
      " 5   Age              10000 non-null  int64  \n",
      " 6   Tenure           10000 non-null  int64  \n",
      " 7   Balance          10000 non-null  float64\n",
      " 8   NumOfProducts    10000 non-null  int64  \n",
      " 9   HasCrCard        10000 non-null  int64  \n",
      " 10  IsActiveMember   10000 non-null  int64  \n",
      " 11  EstimatedSalary  10000 non-null  float64\n",
      " 12  Exited           10000 non-null  int64  \n",
      "dtypes: float64(2), int64(8), object(3)\n",
      "memory usage: 1.1+ MB\n"
     ]
    }
   ],
   "source": [
    "df.info()"
   ]
  },
  {
   "cell_type": "code",
   "execution_count": 27,
   "metadata": {
    "cell_style": "split",
    "colab": {
     "base_uri": "https://localhost:8080/"
    },
    "executionInfo": {
     "elapsed": 798,
     "status": "ok",
     "timestamp": 1610201657421,
     "user": {
      "displayName": "Richard C",
      "photoUrl": "",
      "userId": "08040814671867660929"
     },
     "user_tz": -180
    },
    "id": "vPyMUnVWfM0o",
    "outputId": "7a294ad3-49d9-4cea-b6a2-9824e2c0ba4a"
   },
   "outputs": [
    {
     "data": {
      "text/plain": [
       "(10000, 13)"
      ]
     },
     "execution_count": 27,
     "metadata": {},
     "output_type": "execute_result"
    }
   ],
   "source": [
    "df.shape"
   ]
  },
  {
   "cell_type": "code",
   "execution_count": 28,
   "metadata": {
    "cell_style": "split"
   },
   "outputs": [
    {
     "data": {
      "text/plain": [
       "False"
      ]
     },
     "execution_count": 28,
     "metadata": {},
     "output_type": "execute_result"
    }
   ],
   "source": [
    "df.isnull().sum().any()"
   ]
  },
  {
   "cell_type": "code",
   "execution_count": 29,
   "metadata": {
    "cell_style": "split",
    "scrolled": true
   },
   "outputs": [
    {
     "data": {
      "text/plain": [
       "0"
      ]
     },
     "execution_count": 29,
     "metadata": {},
     "output_type": "execute_result"
    }
   ],
   "source": [
    "df.duplicated().sum()"
   ]
  },
  {
   "cell_type": "code",
   "execution_count": 30,
   "metadata": {
    "cell_style": "center",
    "colab": {
     "base_uri": "https://localhost:8080/",
     "height": 1000
    },
    "executionInfo": {
     "elapsed": 967,
     "status": "ok",
     "timestamp": 1610201729941,
     "user": {
      "displayName": "Richard C",
      "photoUrl": "",
      "userId": "08040814671867660929"
     },
     "user_tz": -180
    },
    "id": "mdUkgZD-gCUx",
    "outputId": "cd4f6662-e8c3-4a6f-93d5-26fed83d8a82",
    "scrolled": false
   },
   "outputs": [
    {
     "data": {
      "text/html": [
       "<div>\n",
       "<style scoped>\n",
       "    .dataframe tbody tr th:only-of-type {\n",
       "        vertical-align: middle;\n",
       "    }\n",
       "\n",
       "    .dataframe tbody tr th {\n",
       "        vertical-align: top;\n",
       "    }\n",
       "\n",
       "    .dataframe thead th {\n",
       "        text-align: right;\n",
       "    }\n",
       "</style>\n",
       "<table border=\"1\" class=\"dataframe\">\n",
       "  <thead>\n",
       "    <tr style=\"text-align: right;\">\n",
       "      <th></th>\n",
       "      <th>count</th>\n",
       "      <th>mean</th>\n",
       "      <th>std</th>\n",
       "      <th>min</th>\n",
       "      <th>25%</th>\n",
       "      <th>50%</th>\n",
       "      <th>75%</th>\n",
       "      <th>max</th>\n",
       "    </tr>\n",
       "  </thead>\n",
       "  <tbody>\n",
       "    <tr>\n",
       "      <th>CustomerId</th>\n",
       "      <td>10000.000</td>\n",
       "      <td>15690940.569</td>\n",
       "      <td>71936.186</td>\n",
       "      <td>15565701.000</td>\n",
       "      <td>15628528.250</td>\n",
       "      <td>15690738.000</td>\n",
       "      <td>15753233.750</td>\n",
       "      <td>15815690.000</td>\n",
       "    </tr>\n",
       "    <tr>\n",
       "      <th>CreditScore</th>\n",
       "      <td>10000.000</td>\n",
       "      <td>650.529</td>\n",
       "      <td>96.653</td>\n",
       "      <td>350.000</td>\n",
       "      <td>584.000</td>\n",
       "      <td>652.000</td>\n",
       "      <td>718.000</td>\n",
       "      <td>850.000</td>\n",
       "    </tr>\n",
       "    <tr>\n",
       "      <th>Age</th>\n",
       "      <td>10000.000</td>\n",
       "      <td>38.922</td>\n",
       "      <td>10.488</td>\n",
       "      <td>18.000</td>\n",
       "      <td>32.000</td>\n",
       "      <td>37.000</td>\n",
       "      <td>44.000</td>\n",
       "      <td>92.000</td>\n",
       "    </tr>\n",
       "    <tr>\n",
       "      <th>Tenure</th>\n",
       "      <td>10000.000</td>\n",
       "      <td>5.013</td>\n",
       "      <td>2.892</td>\n",
       "      <td>0.000</td>\n",
       "      <td>3.000</td>\n",
       "      <td>5.000</td>\n",
       "      <td>7.000</td>\n",
       "      <td>10.000</td>\n",
       "    </tr>\n",
       "    <tr>\n",
       "      <th>Balance</th>\n",
       "      <td>10000.000</td>\n",
       "      <td>76485.889</td>\n",
       "      <td>62397.405</td>\n",
       "      <td>0.000</td>\n",
       "      <td>0.000</td>\n",
       "      <td>97198.540</td>\n",
       "      <td>127644.240</td>\n",
       "      <td>250898.090</td>\n",
       "    </tr>\n",
       "    <tr>\n",
       "      <th>NumOfProducts</th>\n",
       "      <td>10000.000</td>\n",
       "      <td>1.530</td>\n",
       "      <td>0.582</td>\n",
       "      <td>1.000</td>\n",
       "      <td>1.000</td>\n",
       "      <td>1.000</td>\n",
       "      <td>2.000</td>\n",
       "      <td>4.000</td>\n",
       "    </tr>\n",
       "    <tr>\n",
       "      <th>HasCrCard</th>\n",
       "      <td>10000.000</td>\n",
       "      <td>0.706</td>\n",
       "      <td>0.456</td>\n",
       "      <td>0.000</td>\n",
       "      <td>0.000</td>\n",
       "      <td>1.000</td>\n",
       "      <td>1.000</td>\n",
       "      <td>1.000</td>\n",
       "    </tr>\n",
       "    <tr>\n",
       "      <th>IsActiveMember</th>\n",
       "      <td>10000.000</td>\n",
       "      <td>0.515</td>\n",
       "      <td>0.500</td>\n",
       "      <td>0.000</td>\n",
       "      <td>0.000</td>\n",
       "      <td>1.000</td>\n",
       "      <td>1.000</td>\n",
       "      <td>1.000</td>\n",
       "    </tr>\n",
       "    <tr>\n",
       "      <th>EstimatedSalary</th>\n",
       "      <td>10000.000</td>\n",
       "      <td>100090.240</td>\n",
       "      <td>57510.493</td>\n",
       "      <td>11.580</td>\n",
       "      <td>51002.110</td>\n",
       "      <td>100193.915</td>\n",
       "      <td>149388.247</td>\n",
       "      <td>199992.480</td>\n",
       "    </tr>\n",
       "    <tr>\n",
       "      <th>Exited</th>\n",
       "      <td>10000.000</td>\n",
       "      <td>0.204</td>\n",
       "      <td>0.403</td>\n",
       "      <td>0.000</td>\n",
       "      <td>0.000</td>\n",
       "      <td>0.000</td>\n",
       "      <td>0.000</td>\n",
       "      <td>1.000</td>\n",
       "    </tr>\n",
       "  </tbody>\n",
       "</table>\n",
       "</div>"
      ],
      "text/plain": [
       "                    count         mean       std          min          25%  \\\n",
       "CustomerId      10000.000 15690940.569 71936.186 15565701.000 15628528.250   \n",
       "CreditScore     10000.000      650.529    96.653      350.000      584.000   \n",
       "Age             10000.000       38.922    10.488       18.000       32.000   \n",
       "Tenure          10000.000        5.013     2.892        0.000        3.000   \n",
       "Balance         10000.000    76485.889 62397.405        0.000        0.000   \n",
       "NumOfProducts   10000.000        1.530     0.582        1.000        1.000   \n",
       "HasCrCard       10000.000        0.706     0.456        0.000        0.000   \n",
       "IsActiveMember  10000.000        0.515     0.500        0.000        0.000   \n",
       "EstimatedSalary 10000.000   100090.240 57510.493       11.580    51002.110   \n",
       "Exited          10000.000        0.204     0.403        0.000        0.000   \n",
       "\n",
       "                         50%          75%          max  \n",
       "CustomerId      15690738.000 15753233.750 15815690.000  \n",
       "CreditScore          652.000      718.000      850.000  \n",
       "Age                   37.000       44.000       92.000  \n",
       "Tenure                 5.000        7.000       10.000  \n",
       "Balance            97198.540   127644.240   250898.090  \n",
       "NumOfProducts          1.000        2.000        4.000  \n",
       "HasCrCard              1.000        1.000        1.000  \n",
       "IsActiveMember         1.000        1.000        1.000  \n",
       "EstimatedSalary   100193.915   149388.247   199992.480  \n",
       "Exited                 0.000        0.000        1.000  "
      ]
     },
     "execution_count": 30,
     "metadata": {},
     "output_type": "execute_result"
    }
   ],
   "source": [
    "df.describe().T\n",
    "\n"
   ]
  },
  {
   "cell_type": "code",
   "execution_count": 31,
   "metadata": {},
   "outputs": [
    {
     "data": {
      "text/plain": [
       "<AxesSubplot:>"
      ]
     },
     "execution_count": 31,
     "metadata": {},
     "output_type": "execute_result"
    },
    {
     "data": {
      "image/png": "[encoded data removed]",
      "text/plain": [
       "<Figure size 864x432 with 1 Axes>"
      ]
     },
     "metadata": {},
     "output_type": "display_data"
    }
   ],
   "source": [
    "df.Balance.plot(kind=\"box\")  # varlıklar bankadaki"
   ]
  },
  {
   "cell_type": "code",
   "execution_count": 32,
   "metadata": {},
   "outputs": [],
   "source": [
    "df.drop(['CustomerId', 'Surname'], axis=1, inplace=True)"
   ]
  },
  {
   "cell_type": "code",
   "execution_count": 33,
   "metadata": {
    "cell_style": "split",
    "colab": {
     "base_uri": "https://localhost:8080/",
     "height": 297
    },
    "executionInfo": {
     "elapsed": 1052,
     "status": "ok",
     "timestamp": 1610201940310,
     "user": {
      "displayName": "Richard C",
      "photoUrl": "",
      "userId": "08040814671867660929"
     },
     "user_tz": -180
    },
    "id": "_7vHUi5Hgldj",
    "outputId": "0018aaa8-d479-40c3-f973-161c63e7a77b"
   },
   "outputs": [
    {
     "name": "stdout",
     "output_type": "stream",
     "text": [
      "0    7963\n",
      "1    2037\n",
      "Name: Exited, dtype: int64\n"
     ]
    },
    {
     "data": {
      "image/png": "[encoded data removed]",
      "text/plain": [
       "<Figure size 864x432 with 1 Axes>"
      ]
     },
     "metadata": {},
     "output_type": "display_data"
    }
   ],
   "source": [
    "print(df.Exited.value_counts())\n",
    "sns.countplot(df[\"Exited\"]);"
   ]
  },
  {
   "cell_type": "code",
   "execution_count": 34,
   "metadata": {
    "cell_style": "split",
    "scrolled": true
   },
   "outputs": [
    {
     "data": {
      "image/png": "[encoded data removed]",
      "text/plain": [
       "<Figure size 1080x864 with 9 Axes>"
      ]
     },
     "metadata": {},
     "output_type": "display_data"
    }
   ],
   "source": [
    "df.hist(figsize=(15, 12), bins=15);\n"
   ]
  },
  {
   "cell_type": "code",
   "execution_count": 35,
   "metadata": {
    "scrolled": true
   },
   "outputs": [
    {
     "data": {
      "image/png": "[encoded data removed]",
      "text/plain": [
       "<Figure size 1152x864 with 4 Axes>"
      ]
     },
     "metadata": {},
     "output_type": "display_data"
    }
   ],
   "source": [
    "cat_list = [\"Gender\", \"HasCrCard\", \"IsActiveMember\", \"Geography\"]\n",
    "index = 0\n",
    "plt.figure(figsize=(16, 12))\n",
    "for i in cat_list:\n",
    "    index += 1\n",
    "    plt.subplot(2, 2, index)\n",
    "    sns.countplot(data=df, x=i, hue=\"Exited\")"
   ]
  },
  {
   "cell_type": "code",
   "execution_count": 36,
   "metadata": {
    "cell_style": "split"
   },
   "outputs": [
    {
     "data": {
      "text/plain": [
       "Age  Exited\n",
       "18   0         20\n",
       "     1          2\n",
       "19   0         26\n",
       "     1          1\n",
       "20   0         38\n",
       "               ..\n",
       "84   0          1\n",
       "     1          1\n",
       "85   0          1\n",
       "88   0          1\n",
       "92   0          2\n",
       "Name: Exited, Length: 128, dtype: int64"
      ]
     },
     "execution_count": 36,
     "metadata": {},
     "output_type": "execute_result"
    }
   ],
   "source": [
    "df.groupby(\"Age\")[\"Exited\"].value_counts()\n"
   ]
  },
  {
   "cell_type": "code",
   "execution_count": 37,
   "metadata": {
    "cell_style": "split"
   },
   "outputs": [
    {
     "data": {
      "image/png": "[encoded data removed]",
      "text/plain": [
       "<Figure size 1440x504 with 1 Axes>"
      ]
     },
     "metadata": {},
     "output_type": "display_data"
    }
   ],
   "source": [
    "plt.figure(figsize=(20, 7))\n",
    "sns.countplot(df.Age, hue=df.Exited);"
   ]
  },
  {
   "cell_type": "code",
   "execution_count": 38,
   "metadata": {},
   "outputs": [
    {
     "data": {
      "text/plain": [
       "count   10000.000\n",
       "mean      650.529\n",
       "std        96.653\n",
       "min       350.000\n",
       "25%       584.000\n",
       "50%       652.000\n",
       "75%       718.000\n",
       "max       850.000\n",
       "Name: CreditScore, dtype: float64"
      ]
     },
     "execution_count": 38,
     "metadata": {},
     "output_type": "execute_result"
    }
   ],
   "source": [
    "df.CreditScore.describe()"
   ]
  },
  {
   "cell_type": "code",
   "execution_count": 39,
   "metadata": {},
   "outputs": [],
   "source": [
    "def credit_transformer(x, y):\n",
    "    if x < 350 and y == 0:\n",
    "        return 0\n",
    "    if x < 350 and y > 0:\n",
    "        return 1\n",
    "    if x < 718 and y == 0:\n",
    "        return 2\n",
    "    if x < 718 and y > 0:\n",
    "        return 3\n",
    "    else:\n",
    "        return 4"
   ]
  },
  {
   "cell_type": "code",
   "execution_count": 40,
   "metadata": {
    "scrolled": true
   },
   "outputs": [
    {
     "data": {
      "text/plain": [
       "[3, 2, 3, 2, 4, 3, 4, 3, 2, 3]"
      ]
     },
     "execution_count": 40,
     "metadata": {},
     "output_type": "execute_result"
    }
   ],
   "source": [
    "customer_value = [\n",
    "    credit_transformer(x, y) for x, y in zip(df.CreditScore, df.HasCrCard)\n",
    "]\n",
    "customer_value[:10]"
   ]
  },
  {
   "cell_type": "code",
   "execution_count": 41,
   "metadata": {},
   "outputs": [],
   "source": [
    "df.insert(10, \"customer_value\", customer_value)"
   ]
  },
  {
   "cell_type": "code",
   "execution_count": 42,
   "metadata": {},
   "outputs": [
    {
     "data": {
      "text/plain": [
       "RowNumber\n",
       "1        3\n",
       "2        2\n",
       "3        3\n",
       "4        2\n",
       "5        4\n",
       "        ..\n",
       "9996     4\n",
       "9997     3\n",
       "9998     2\n",
       "9999     4\n",
       "10000    4\n",
       "Name: customer_value, Length: 10000, dtype: int64"
      ]
     },
     "execution_count": 42,
     "metadata": {},
     "output_type": "execute_result"
    }
   ],
   "source": [
    "df.customer_value"
   ]
  },
  {
   "cell_type": "markdown",
   "metadata": {},
   "source": [
    "from sklearn.preprocessing import OrdinalEncoder\n",
    "\n",
    "encoder = OrdinalEncoder()\n",
    "\n",
    "result = encoder.fit_transform(df.customer_value.values.reshape(-1, 1))\n",
    "print(result)\n"
   ]
  },
  {
   "cell_type": "markdown",
   "metadata": {},
   "source": [
    "df.customer_value = result\n",
    "df.customer_value"
   ]
  },
  {
   "cell_type": "code",
   "execution_count": 43,
   "metadata": {
    "cell_style": "split",
    "colab": {
     "base_uri": "https://localhost:8080/",
     "height": 981
    },
    "executionInfo": {
     "elapsed": 5978,
     "status": "ok",
     "timestamp": 1610202268770,
     "user": {
      "displayName": "Richard C",
      "photoUrl": "",
      "userId": "08040814671867660929"
     },
     "user_tz": -180
    },
    "id": "fNDK3HprhSU3",
    "outputId": "98fe8eba-dc36-4cc7-96ad-ff61182d12a2"
   },
   "outputs": [
    {
     "data": {
      "text/plain": [
       "<AxesSubplot:>"
      ]
     },
     "execution_count": 43,
     "metadata": {},
     "output_type": "execute_result"
    },
    {
     "data": {
      "image/png": "[encoded data removed]",
      "text/plain": [
       "<Figure size 1152x864 with 2 Axes>"
      ]
     },
     "metadata": {},
     "output_type": "display_data"
    }
   ],
   "source": [
    "plt.figure(figsize=(16, 12))\n",
    "sns.heatmap(df.corr(), annot=True, cmap='viridis')"
   ]
  },
  {
   "cell_type": "code",
   "execution_count": 44,
   "metadata": {
    "cell_style": "split",
    "colab": {
     "base_uri": "https://localhost:8080/",
     "height": 391
    },
    "executionInfo": {
     "elapsed": 1405,
     "status": "ok",
     "timestamp": 1610203065835,
     "user": {
      "displayName": "Richard C",
      "photoUrl": "",
      "userId": "08040814671867660929"
     },
     "user_tz": -180
    },
    "id": "IasR3c8ajeC0",
    "outputId": "4742bedb-e6bc-4967-f1cd-c36f7610f33e"
   },
   "outputs": [
    {
     "data": {
      "text/plain": [
       "<AxesSubplot:>"
      ]
     },
     "execution_count": 44,
     "metadata": {},
     "output_type": "execute_result"
    },
    {
     "data": {
      "image/png": "[encoded data removed]",
      "text/plain": [
       "<Figure size 864x432 with 1 Axes>"
      ]
     },
     "metadata": {},
     "output_type": "display_data"
    }
   ],
   "source": [
    "df.corr()['Exited'][:-1].sort_values().plot.bar()"
   ]
  },
  {
   "cell_type": "code",
   "execution_count": 45,
   "metadata": {},
   "outputs": [
    {
     "data": {
      "text/html": [
       "<div>\n",
       "<style scoped>\n",
       "    .dataframe tbody tr th:only-of-type {\n",
       "        vertical-align: middle;\n",
       "    }\n",
       "\n",
       "    .dataframe tbody tr th {\n",
       "        vertical-align: top;\n",
       "    }\n",
       "\n",
       "    .dataframe thead th {\n",
       "        text-align: right;\n",
       "    }\n",
       "</style>\n",
       "<table border=\"1\" class=\"dataframe\">\n",
       "  <thead>\n",
       "    <tr style=\"text-align: right;\">\n",
       "      <th></th>\n",
       "      <th>CreditScore</th>\n",
       "      <th>Age</th>\n",
       "      <th>Tenure</th>\n",
       "      <th>Balance</th>\n",
       "      <th>NumOfProducts</th>\n",
       "      <th>HasCrCard</th>\n",
       "      <th>IsActiveMember</th>\n",
       "      <th>EstimatedSalary</th>\n",
       "      <th>customer_value</th>\n",
       "      <th>Exited</th>\n",
       "      <th>Geography_Germany</th>\n",
       "      <th>Geography_Spain</th>\n",
       "      <th>Gender_Male</th>\n",
       "    </tr>\n",
       "    <tr>\n",
       "      <th>RowNumber</th>\n",
       "      <th></th>\n",
       "      <th></th>\n",
       "      <th></th>\n",
       "      <th></th>\n",
       "      <th></th>\n",
       "      <th></th>\n",
       "      <th></th>\n",
       "      <th></th>\n",
       "      <th></th>\n",
       "      <th></th>\n",
       "      <th></th>\n",
       "      <th></th>\n",
       "      <th></th>\n",
       "    </tr>\n",
       "  </thead>\n",
       "  <tbody>\n",
       "    <tr>\n",
       "      <th>1</th>\n",
       "      <td>619</td>\n",
       "      <td>42</td>\n",
       "      <td>2</td>\n",
       "      <td>0.000</td>\n",
       "      <td>1</td>\n",
       "      <td>1</td>\n",
       "      <td>1</td>\n",
       "      <td>101348.880</td>\n",
       "      <td>3</td>\n",
       "      <td>1</td>\n",
       "      <td>0</td>\n",
       "      <td>0</td>\n",
       "      <td>0</td>\n",
       "    </tr>\n",
       "    <tr>\n",
       "      <th>2</th>\n",
       "      <td>608</td>\n",
       "      <td>41</td>\n",
       "      <td>1</td>\n",
       "      <td>83807.860</td>\n",
       "      <td>1</td>\n",
       "      <td>0</td>\n",
       "      <td>1</td>\n",
       "      <td>112542.580</td>\n",
       "      <td>2</td>\n",
       "      <td>0</td>\n",
       "      <td>0</td>\n",
       "      <td>1</td>\n",
       "      <td>0</td>\n",
       "    </tr>\n",
       "    <tr>\n",
       "      <th>3</th>\n",
       "      <td>502</td>\n",
       "      <td>42</td>\n",
       "      <td>8</td>\n",
       "      <td>159660.800</td>\n",
       "      <td>3</td>\n",
       "      <td>1</td>\n",
       "      <td>0</td>\n",
       "      <td>113931.570</td>\n",
       "      <td>3</td>\n",
       "      <td>1</td>\n",
       "      <td>0</td>\n",
       "      <td>0</td>\n",
       "      <td>0</td>\n",
       "    </tr>\n",
       "    <tr>\n",
       "      <th>4</th>\n",
       "      <td>699</td>\n",
       "      <td>39</td>\n",
       "      <td>1</td>\n",
       "      <td>0.000</td>\n",
       "      <td>2</td>\n",
       "      <td>0</td>\n",
       "      <td>0</td>\n",
       "      <td>93826.630</td>\n",
       "      <td>2</td>\n",
       "      <td>0</td>\n",
       "      <td>0</td>\n",
       "      <td>0</td>\n",
       "      <td>0</td>\n",
       "    </tr>\n",
       "    <tr>\n",
       "      <th>5</th>\n",
       "      <td>850</td>\n",
       "      <td>43</td>\n",
       "      <td>2</td>\n",
       "      <td>125510.820</td>\n",
       "      <td>1</td>\n",
       "      <td>1</td>\n",
       "      <td>1</td>\n",
       "      <td>79084.100</td>\n",
       "      <td>4</td>\n",
       "      <td>0</td>\n",
       "      <td>0</td>\n",
       "      <td>1</td>\n",
       "      <td>0</td>\n",
       "    </tr>\n",
       "  </tbody>\n",
       "</table>\n",
       "</div>"
      ],
      "text/plain": [
       "           CreditScore  Age  Tenure    Balance  NumOfProducts  HasCrCard  \\\n",
       "RowNumber                                                                  \n",
       "1                  619   42       2      0.000              1          1   \n",
       "2                  608   41       1  83807.860              1          0   \n",
       "3                  502   42       8 159660.800              3          1   \n",
       "4                  699   39       1      0.000              2          0   \n",
       "5                  850   43       2 125510.820              1          1   \n",
       "\n",
       "           IsActiveMember  EstimatedSalary  customer_value  Exited  \\\n",
       "RowNumber                                                            \n",
       "1                       1       101348.880               3       1   \n",
       "2                       1       112542.580               2       0   \n",
       "3                       0       113931.570               3       1   \n",
       "4                       0        93826.630               2       0   \n",
       "5                       1        79084.100               4       0   \n",
       "\n",
       "           Geography_Germany  Geography_Spain  Gender_Male  \n",
       "RowNumber                                                   \n",
       "1                          0                0            0  \n",
       "2                          0                1            0  \n",
       "3                          0                0            0  \n",
       "4                          0                0            0  \n",
       "5                          0                1            0  "
      ]
     },
     "execution_count": 45,
     "metadata": {},
     "output_type": "execute_result"
    }
   ],
   "source": [
    "df = pd.get_dummies(df, drop_first=True)\n",
    "df.head()"
   ]
  },
  {
   "cell_type": "markdown",
   "metadata": {},
   "source": [
    "## Preprocessing of Data"
   ]
  },
  {
   "cell_type": "code",
   "execution_count": 46,
   "metadata": {
    "executionInfo": {
     "elapsed": 764,
     "status": "ok",
     "timestamp": 1610203310512,
     "user": {
      "displayName": "Richard C",
      "photoUrl": "",
      "userId": "08040814671867660929"
     },
     "user_tz": -180
    },
    "id": "DjY-ZSPWka7D"
   },
   "outputs": [],
   "source": [
    "from sklearn.model_selection import train_test_split\n",
    "from sklearn.preprocessing import MinMaxScaler"
   ]
  },
  {
   "cell_type": "code",
   "execution_count": 47,
   "metadata": {
    "cell_style": "center",
    "executionInfo": {
     "elapsed": 1126,
     "status": "ok",
     "timestamp": 1610203246314,
     "user": {
      "displayName": "Richard C",
      "photoUrl": "",
      "userId": "08040814671867660929"
     },
     "user_tz": -180
    },
    "id": "kjyTH753lq7M"
   },
   "outputs": [],
   "source": [
    "X = df.drop('Exited', axis=1)\n",
    "y = df['Exited'].values\n",
    "\n",
    "X_train, X_test, y_train, y_test = train_test_split(X,\n",
    "                                                    y,\n",
    "                                                    stratify=y,\n",
    "                                                    test_size=0.1,\n",
    "                                                    random_state=42)\n"
   ]
  },
  {
   "cell_type": "code",
   "execution_count": 48,
   "metadata": {
    "cell_style": "split"
   },
   "outputs": [],
   "source": [
    "scaler = MinMaxScaler()\n"
   ]
  },
  {
   "cell_type": "code",
   "execution_count": 49,
   "metadata": {
    "cell_style": "split",
    "executionInfo": {
     "elapsed": 696,
     "status": "ok",
     "timestamp": 1610203508023,
     "user": {
      "displayName": "Richard C",
      "photoUrl": "",
      "userId": "08040814671867660929"
     },
     "user_tz": -180
    },
    "id": "Fgy3D9SBmWcq"
   },
   "outputs": [],
   "source": [
    "X_train = scaler.fit_transform(X_train)\n",
    "X_test = scaler.transform(X_test)"
   ]
  },
  {
   "cell_type": "markdown",
   "metadata": {
    "id": "Ha9hDt_AoGaE"
   },
   "source": [
    "## Modelling & Model Performance"
   ]
  },
  {
   "cell_type": "markdown",
   "metadata": {},
   "source": [
    "<span class=\"mark\">How many hidden layers should I use? : http://www.faqs.org/faqs/ai-faq/neural-nets/part3/section-9.html (mirror: http://francky.me/aifaq/FAQ-comp.ai.neural-net.pdf)\n",
    "How many hidden units should I use? : http://www.faqs.org/faqs/ai-faq/neural-nets/part3/section-10.html (mirror: http://francky.me/aifaq/FAQ-comp.ai.neural-net.pdf)\n",
    "What is genetic algorithm? : https://www.researchgate.net/post/What_is_genetic_algorithm1\n",
    "Genetic algorithm + neural networks: http://francky.me/doc/mrf2011-HEC-ISIR-ENS_en.pdf (chapter 2.2)</span>"
   ]
  },
  {
   "cell_type": "markdown",
   "metadata": {},
   "source": [
    "### without class_weigth"
   ]
  },
  {
   "cell_type": "code",
   "execution_count": 50,
   "metadata": {
    "cell_style": "split"
   },
   "outputs": [],
   "source": [
    "model = Sequential()\n",
    "\n",
    "model.add(Dense(16, activation=\"relu\"))\n",
    "model.add(Dense(8, activation=\"relu\"))\n",
    "model.add(Dense(1, activation=\"sigmoid\"))\n",
    "\n",
    "opt = Adam(lr=0.001)\n",
    "model.compile(optimizer=opt, \n",
    "              loss=\"binary_crossentropy\",\n",
    "              metrics=[\"Recall\"])   # balancade accuracy olabilir."
   ]
  },
  {
   "cell_type": "markdown",
   "metadata": {
    "cell_style": "split"
   },
   "source": [
    "<span class=\"burk\">The patience is often set somewhere between 10 and 100 (10 or 20 is more common), but it really depends on your dataset and network.</span>"
   ]
  },
  {
   "cell_type": "code",
   "execution_count": 51,
   "metadata": {
    "cell_style": "split"
   },
   "outputs": [],
   "source": [
    "early_stop = EarlyStopping(monitor=\"val_loss\",\n",
    "                           mode=\"auto\",\n",
    "                           verbose=1,\n",
    "                           patience=15)"
   ]
  },
  {
   "cell_type": "code",
   "execution_count": 52,
   "metadata": {
    "cell_style": "center",
    "scrolled": true
   },
   "outputs": [
    {
     "name": "stdout",
     "output_type": "stream",
     "text": [
      "Epoch 1/200\n",
      "64/64 [==============================] - 1s 4ms/step - loss: 0.5012 - recall: 0.0000e+00 - val_loss: 0.4766 - val_recall: 0.0000e+00\n",
      "Epoch 2/200\n",
      "64/64 [==============================] - 0s 1ms/step - loss: 0.4804 - recall: 0.0000e+00 - val_loss: 0.4630 - val_recall: 0.0000e+00\n",
      "Epoch 3/200\n",
      "64/64 [==============================] - 0s 1ms/step - loss: 0.4713 - recall: 0.0000e+00 - val_loss: 0.4536 - val_recall: 0.0000e+00\n",
      "Epoch 4/200\n",
      "64/64 [==============================] - 0s 1ms/step - loss: 0.4649 - recall: 0.0000e+00 - val_loss: 0.4474 - val_recall: 0.0000e+00\n",
      "Epoch 5/200\n",
      "64/64 [==============================] - 0s 1ms/step - loss: 0.4590 - recall: 0.0188 - val_loss: 0.4391 - val_recall: 0.0829\n",
      "Epoch 6/200\n",
      "64/64 [==============================] - 0s 1ms/step - loss: 0.4530 - recall: 0.0775 - val_loss: 0.4310 - val_recall: 0.1105\n",
      "Epoch 7/200\n",
      "64/64 [==============================] - 0s 1ms/step - loss: 0.4465 - recall: 0.0969 - val_loss: 0.4228 - val_recall: 0.1215\n",
      "Epoch 8/200\n",
      "64/64 [==============================] - 0s 2ms/step - loss: 0.4409 - recall: 0.1138 - val_loss: 0.4156 - val_recall: 0.1657\n",
      "Epoch 9/200\n",
      "64/64 [==============================] - 0s 1ms/step - loss: 0.4355 - recall: 0.1368 - val_loss: 0.4101 - val_recall: 0.1989\n",
      "Epoch 10/200\n",
      "64/64 [==============================] - 0s 1ms/step - loss: 0.4318 - recall: 0.1568 - val_loss: 0.4079 - val_recall: 0.2873\n",
      "Epoch 11/200\n",
      "64/64 [==============================] - 0s 1ms/step - loss: 0.4282 - recall: 0.1713 - val_loss: 0.3999 - val_recall: 0.2983\n",
      "Epoch 12/200\n",
      "64/64 [==============================] - 0s 1ms/step - loss: 0.4240 - recall: 0.1967 - val_loss: 0.3971 - val_recall: 0.2155\n",
      "Epoch 13/200\n",
      "64/64 [==============================] - 0s 1ms/step - loss: 0.4226 - recall: 0.1883 - val_loss: 0.3919 - val_recall: 0.3094\n",
      "Epoch 14/200\n",
      "64/64 [==============================] - 0s 1ms/step - loss: 0.4188 - recall: 0.2228 - val_loss: 0.3885 - val_recall: 0.3149\n",
      "Epoch 15/200\n",
      "64/64 [==============================] - 0s 1ms/step - loss: 0.4158 - recall: 0.2173 - val_loss: 0.3846 - val_recall: 0.3039\n",
      "Epoch 16/200\n",
      "64/64 [==============================] - 0s 1ms/step - loss: 0.4138 - recall: 0.2264 - val_loss: 0.3824 - val_recall: 0.3370\n",
      "Epoch 17/200\n",
      "64/64 [==============================] - 0s 1ms/step - loss: 0.4107 - recall: 0.2439 - val_loss: 0.3776 - val_recall: 0.3260\n",
      "Epoch 18/200\n",
      "64/64 [==============================] - 0s 1ms/step - loss: 0.4080 - recall: 0.2482 - val_loss: 0.3744 - val_recall: 0.3149\n",
      "Epoch 19/200\n",
      "64/64 [==============================] - 0s 1ms/step - loss: 0.4053 - recall: 0.2645 - val_loss: 0.3718 - val_recall: 0.3094\n",
      "Epoch 20/200\n",
      "64/64 [==============================] - 0s 1ms/step - loss: 0.4042 - recall: 0.2688 - val_loss: 0.3683 - val_recall: 0.3370\n",
      "Epoch 21/200\n",
      "64/64 [==============================] - 0s 1ms/step - loss: 0.4004 - recall: 0.2803 - val_loss: 0.3665 - val_recall: 0.3867\n",
      "Epoch 22/200\n",
      "64/64 [==============================] - 0s 1ms/step - loss: 0.3974 - recall: 0.2839 - val_loss: 0.3667 - val_recall: 0.4033\n",
      "Epoch 23/200\n",
      "64/64 [==============================] - 0s 1ms/step - loss: 0.3961 - recall: 0.3099 - val_loss: 0.3593 - val_recall: 0.3425\n",
      "Epoch 24/200\n",
      "64/64 [==============================] - 0s 1ms/step - loss: 0.3933 - recall: 0.3069 - val_loss: 0.3575 - val_recall: 0.3702\n",
      "Epoch 25/200\n",
      "64/64 [==============================] - 0s 1ms/step - loss: 0.3916 - recall: 0.3117 - val_loss: 0.3540 - val_recall: 0.3757\n",
      "Epoch 26/200\n",
      "64/64 [==============================] - 0s 1ms/step - loss: 0.3890 - recall: 0.3154 - val_loss: 0.3520 - val_recall: 0.3923\n",
      "Epoch 27/200\n",
      "64/64 [==============================] - 0s 1ms/step - loss: 0.3873 - recall: 0.3257 - val_loss: 0.3492 - val_recall: 0.3812\n",
      "Epoch 28/200\n",
      "64/64 [==============================] - 0s 1ms/step - loss: 0.3859 - recall: 0.3293 - val_loss: 0.3474 - val_recall: 0.4199\n",
      "Epoch 29/200\n",
      "64/64 [==============================] - 0s 1ms/step - loss: 0.3829 - recall: 0.3305 - val_loss: 0.3439 - val_recall: 0.3867\n",
      "Epoch 30/200\n",
      "64/64 [==============================] - 0s 1ms/step - loss: 0.3817 - recall: 0.3444 - val_loss: 0.3424 - val_recall: 0.4199\n",
      "Epoch 31/200\n",
      "64/64 [==============================] - 0s 1ms/step - loss: 0.3797 - recall: 0.3414 - val_loss: 0.3409 - val_recall: 0.4586\n",
      "Epoch 32/200\n",
      "64/64 [==============================] - 0s 1ms/step - loss: 0.3778 - recall: 0.3523 - val_loss: 0.3384 - val_recall: 0.4309\n",
      "Epoch 33/200\n",
      "64/64 [==============================] - 0s 1ms/step - loss: 0.3774 - recall: 0.3590 - val_loss: 0.3369 - val_recall: 0.4254\n",
      "Epoch 34/200\n",
      "64/64 [==============================] - 0s 1ms/step - loss: 0.3752 - recall: 0.3505 - val_loss: 0.3351 - val_recall: 0.4475\n",
      "Epoch 35/200\n",
      "64/64 [==============================] - 0s 1ms/step - loss: 0.3735 - recall: 0.3602 - val_loss: 0.3339 - val_recall: 0.4807\n",
      "Epoch 36/200\n",
      "64/64 [==============================] - 0s 1ms/step - loss: 0.3730 - recall: 0.3705 - val_loss: 0.3312 - val_recall: 0.4696\n",
      "Epoch 37/200\n",
      "64/64 [==============================] - 0s 1ms/step - loss: 0.3707 - recall: 0.3832 - val_loss: 0.3306 - val_recall: 0.4530\n",
      "Epoch 38/200\n",
      "64/64 [==============================] - 0s 1ms/step - loss: 0.3699 - recall: 0.3820 - val_loss: 0.3336 - val_recall: 0.5304\n",
      "Epoch 39/200\n",
      "64/64 [==============================] - 0s 1ms/step - loss: 0.3687 - recall: 0.3735 - val_loss: 0.3276 - val_recall: 0.4862\n",
      "Epoch 40/200\n",
      "64/64 [==============================] - 0s 1ms/step - loss: 0.3682 - recall: 0.3808 - val_loss: 0.3287 - val_recall: 0.5249\n",
      "Epoch 41/200\n",
      "64/64 [==============================] - 0s 1ms/step - loss: 0.3658 - recall: 0.3880 - val_loss: 0.3260 - val_recall: 0.5193\n",
      "Epoch 42/200\n",
      "64/64 [==============================] - 0s 1ms/step - loss: 0.3658 - recall: 0.3959 - val_loss: 0.3313 - val_recall: 0.5691\n",
      "Epoch 43/200\n",
      "64/64 [==============================] - 0s 1ms/step - loss: 0.3664 - recall: 0.3916 - val_loss: 0.3241 - val_recall: 0.4309\n",
      "Epoch 44/200\n",
      "64/64 [==============================] - 0s 1ms/step - loss: 0.3639 - recall: 0.3916 - val_loss: 0.3227 - val_recall: 0.5193\n",
      "Epoch 45/200\n",
      "64/64 [==============================] - 0s 1ms/step - loss: 0.3627 - recall: 0.4044 - val_loss: 0.3211 - val_recall: 0.4696\n",
      "Epoch 46/200\n",
      "64/64 [==============================] - 0s 1ms/step - loss: 0.3618 - recall: 0.4001 - val_loss: 0.3208 - val_recall: 0.4586\n",
      "Epoch 47/200\n",
      "64/64 [==============================] - 0s 1ms/step - loss: 0.3616 - recall: 0.4153 - val_loss: 0.3182 - val_recall: 0.4972\n",
      "Epoch 48/200\n",
      "64/64 [==============================] - 0s 1ms/step - loss: 0.3614 - recall: 0.4025 - val_loss: 0.3171 - val_recall: 0.4972\n",
      "Epoch 49/200\n",
      "64/64 [==============================] - 0s 1ms/step - loss: 0.3605 - recall: 0.4134 - val_loss: 0.3171 - val_recall: 0.4862\n",
      "Epoch 50/200\n",
      "64/64 [==============================] - 0s 1ms/step - loss: 0.3598 - recall: 0.4074 - val_loss: 0.3168 - val_recall: 0.4751\n",
      "Epoch 51/200\n",
      "64/64 [==============================] - 0s 1ms/step - loss: 0.3599 - recall: 0.4050 - val_loss: 0.3157 - val_recall: 0.4807\n",
      "Epoch 52/200\n",
      "64/64 [==============================] - 0s 1ms/step - loss: 0.3604 - recall: 0.4165 - val_loss: 0.3150 - val_recall: 0.4862\n",
      "Epoch 53/200\n",
      "64/64 [==============================] - 0s 1ms/step - loss: 0.3580 - recall: 0.4201 - val_loss: 0.3163 - val_recall: 0.5470\n",
      "Epoch 54/200\n",
      "64/64 [==============================] - 0s 1ms/step - loss: 0.3572 - recall: 0.4225 - val_loss: 0.3160 - val_recall: 0.5359\n",
      "Epoch 55/200\n",
      "64/64 [==============================] - 0s 1ms/step - loss: 0.3574 - recall: 0.4140 - val_loss: 0.3122 - val_recall: 0.4917\n",
      "Epoch 56/200\n",
      "64/64 [==============================] - 0s 1ms/step - loss: 0.3570 - recall: 0.4286 - val_loss: 0.3134 - val_recall: 0.5359\n",
      "Epoch 57/200\n",
      "64/64 [==============================] - 0s 1ms/step - loss: 0.3554 - recall: 0.4219 - val_loss: 0.3126 - val_recall: 0.4972\n",
      "Epoch 58/200\n",
      "64/64 [==============================] - 0s 1ms/step - loss: 0.3561 - recall: 0.4304 - val_loss: 0.3137 - val_recall: 0.5193\n",
      "Epoch 59/200\n",
      "64/64 [==============================] - 0s 1ms/step - loss: 0.3552 - recall: 0.4231 - val_loss: 0.3123 - val_recall: 0.5249\n",
      "Epoch 60/200\n"
     ]
    },
    {
     "name": "stdout",
     "output_type": "stream",
     "text": [
      "64/64 [==============================] - 0s 1ms/step - loss: 0.3554 - recall: 0.4207 - val_loss: 0.3112 - val_recall: 0.5193\n",
      "Epoch 61/200\n",
      "64/64 [==============================] - 0s 1ms/step - loss: 0.3549 - recall: 0.4243 - val_loss: 0.3103 - val_recall: 0.5138\n",
      "Epoch 62/200\n",
      "64/64 [==============================] - 0s 1ms/step - loss: 0.3546 - recall: 0.4304 - val_loss: 0.3111 - val_recall: 0.5138\n",
      "Epoch 63/200\n",
      "64/64 [==============================] - 0s 1ms/step - loss: 0.3547 - recall: 0.4225 - val_loss: 0.3100 - val_recall: 0.5138\n",
      "Epoch 64/200\n",
      "64/64 [==============================] - 0s 2ms/step - loss: 0.3536 - recall: 0.4268 - val_loss: 0.3103 - val_recall: 0.5304\n",
      "Epoch 65/200\n",
      "64/64 [==============================] - 0s 1ms/step - loss: 0.3544 - recall: 0.4377 - val_loss: 0.3102 - val_recall: 0.5304\n",
      "Epoch 66/200\n",
      "64/64 [==============================] - 0s 1ms/step - loss: 0.3543 - recall: 0.4231 - val_loss: 0.3083 - val_recall: 0.5304\n",
      "Epoch 67/200\n",
      "64/64 [==============================] - 0s 1ms/step - loss: 0.3536 - recall: 0.4310 - val_loss: 0.3089 - val_recall: 0.5304\n",
      "Epoch 68/200\n",
      "64/64 [==============================] - 0s 1ms/step - loss: 0.3533 - recall: 0.4316 - val_loss: 0.3087 - val_recall: 0.4972\n",
      "Epoch 69/200\n",
      "64/64 [==============================] - 0s 1ms/step - loss: 0.3528 - recall: 0.4304 - val_loss: 0.3103 - val_recall: 0.5525\n",
      "Epoch 70/200\n",
      "64/64 [==============================] - 0s 1ms/step - loss: 0.3520 - recall: 0.4346 - val_loss: 0.3124 - val_recall: 0.5801\n",
      "Epoch 71/200\n",
      "64/64 [==============================] - 0s 1ms/step - loss: 0.3520 - recall: 0.4401 - val_loss: 0.3081 - val_recall: 0.5028\n",
      "Epoch 72/200\n",
      "64/64 [==============================] - 0s 2ms/step - loss: 0.3513 - recall: 0.4328 - val_loss: 0.3088 - val_recall: 0.5249\n",
      "Epoch 73/200\n",
      "64/64 [==============================] - 0s 1ms/step - loss: 0.3527 - recall: 0.4358 - val_loss: 0.3080 - val_recall: 0.5525\n",
      "Epoch 74/200\n",
      "64/64 [==============================] - 0s 1ms/step - loss: 0.3511 - recall: 0.4316 - val_loss: 0.3087 - val_recall: 0.4917\n",
      "Epoch 75/200\n",
      "64/64 [==============================] - 0s 1ms/step - loss: 0.3516 - recall: 0.4389 - val_loss: 0.3085 - val_recall: 0.5635\n",
      "Epoch 76/200\n",
      "64/64 [==============================] - 0s 1ms/step - loss: 0.3512 - recall: 0.4286 - val_loss: 0.3056 - val_recall: 0.5193\n",
      "Epoch 77/200\n",
      "64/64 [==============================] - 0s 1ms/step - loss: 0.3507 - recall: 0.4449 - val_loss: 0.3067 - val_recall: 0.5083\n",
      "Epoch 78/200\n",
      "64/64 [==============================] - 0s 1ms/step - loss: 0.3503 - recall: 0.4455 - val_loss: 0.3061 - val_recall: 0.5304\n",
      "Epoch 79/200\n",
      "64/64 [==============================] - 0s 1ms/step - loss: 0.3501 - recall: 0.4346 - val_loss: 0.3070 - val_recall: 0.5414\n",
      "Epoch 80/200\n",
      "64/64 [==============================] - 0s 1ms/step - loss: 0.3491 - recall: 0.4334 - val_loss: 0.3058 - val_recall: 0.5635\n",
      "Epoch 81/200\n",
      "64/64 [==============================] - 0s 1ms/step - loss: 0.3501 - recall: 0.4510 - val_loss: 0.3082 - val_recall: 0.5691\n",
      "Epoch 82/200\n",
      "64/64 [==============================] - 0s 1ms/step - loss: 0.3499 - recall: 0.4425 - val_loss: 0.3065 - val_recall: 0.4807\n",
      "Epoch 83/200\n",
      "64/64 [==============================] - 0s 1ms/step - loss: 0.3504 - recall: 0.4352 - val_loss: 0.3053 - val_recall: 0.5249\n",
      "Epoch 84/200\n",
      "64/64 [==============================] - 0s 1ms/step - loss: 0.3491 - recall: 0.4455 - val_loss: 0.3058 - val_recall: 0.5249\n",
      "Epoch 85/200\n",
      "64/64 [==============================] - 0s 1ms/step - loss: 0.3491 - recall: 0.4358 - val_loss: 0.3082 - val_recall: 0.4696\n",
      "Epoch 86/200\n",
      "64/64 [==============================] - 0s 1ms/step - loss: 0.3482 - recall: 0.4455 - val_loss: 0.3040 - val_recall: 0.5138\n",
      "Epoch 87/200\n",
      "64/64 [==============================] - 0s 1ms/step - loss: 0.3489 - recall: 0.4413 - val_loss: 0.3052 - val_recall: 0.5083\n",
      "Epoch 88/200\n",
      "64/64 [==============================] - 0s 1ms/step - loss: 0.3483 - recall: 0.4522 - val_loss: 0.3058 - val_recall: 0.5470\n",
      "Epoch 89/200\n",
      "64/64 [==============================] - 0s 1ms/step - loss: 0.3489 - recall: 0.4395 - val_loss: 0.3063 - val_recall: 0.5525\n",
      "Epoch 90/200\n",
      "64/64 [==============================] - 0s 1ms/step - loss: 0.3484 - recall: 0.4485 - val_loss: 0.3059 - val_recall: 0.5083\n",
      "Epoch 91/200\n",
      "64/64 [==============================] - 0s 1ms/step - loss: 0.3486 - recall: 0.4431 - val_loss: 0.3050 - val_recall: 0.5470\n",
      "Epoch 92/200\n",
      "64/64 [==============================] - 0s 1ms/step - loss: 0.3483 - recall: 0.4461 - val_loss: 0.3095 - val_recall: 0.5856\n",
      "Epoch 93/200\n",
      "64/64 [==============================] - 0s 1ms/step - loss: 0.3480 - recall: 0.4352 - val_loss: 0.3047 - val_recall: 0.5470\n",
      "Epoch 94/200\n",
      "64/64 [==============================] - 0s 2ms/step - loss: 0.3475 - recall: 0.4449 - val_loss: 0.3058 - val_recall: 0.5801\n",
      "Epoch 95/200\n",
      "64/64 [==============================] - 0s 1ms/step - loss: 0.3491 - recall: 0.4498 - val_loss: 0.3047 - val_recall: 0.5304\n",
      "Epoch 96/200\n",
      "64/64 [==============================] - 0s 1ms/step - loss: 0.3466 - recall: 0.4455 - val_loss: 0.3047 - val_recall: 0.5249\n",
      "Epoch 97/200\n",
      "64/64 [==============================] - 0s 1ms/step - loss: 0.3479 - recall: 0.4431 - val_loss: 0.3028 - val_recall: 0.5249\n",
      "Epoch 98/200\n",
      "64/64 [==============================] - 0s 1ms/step - loss: 0.3471 - recall: 0.4455 - val_loss: 0.3144 - val_recall: 0.6188\n",
      "Epoch 99/200\n",
      "64/64 [==============================] - 0s 1ms/step - loss: 0.3468 - recall: 0.4473 - val_loss: 0.3070 - val_recall: 0.5801\n",
      "Epoch 100/200\n",
      "64/64 [==============================] - 0s 1ms/step - loss: 0.3475 - recall: 0.4467 - val_loss: 0.3056 - val_recall: 0.5580\n",
      "Epoch 101/200\n",
      "64/64 [==============================] - 0s 1ms/step - loss: 0.3462 - recall: 0.4492 - val_loss: 0.3043 - val_recall: 0.5414\n",
      "Epoch 102/200\n",
      "64/64 [==============================] - 0s 1ms/step - loss: 0.3464 - recall: 0.4492 - val_loss: 0.3036 - val_recall: 0.4917\n",
      "Epoch 103/200\n",
      "64/64 [==============================] - 0s 1ms/step - loss: 0.3469 - recall: 0.4473 - val_loss: 0.3033 - val_recall: 0.5138\n",
      "Epoch 104/200\n",
      "64/64 [==============================] - 0s 1ms/step - loss: 0.3461 - recall: 0.4455 - val_loss: 0.3024 - val_recall: 0.5304\n",
      "Epoch 105/200\n",
      "64/64 [==============================] - 0s 1ms/step - loss: 0.3466 - recall: 0.4498 - val_loss: 0.3028 - val_recall: 0.5359\n",
      "Epoch 106/200\n",
      "64/64 [==============================] - 0s 1ms/step - loss: 0.3459 - recall: 0.4431 - val_loss: 0.3049 - val_recall: 0.5746\n",
      "Epoch 107/200\n",
      "64/64 [==============================] - 0s 1ms/step - loss: 0.3457 - recall: 0.4461 - val_loss: 0.3035 - val_recall: 0.5525\n",
      "Epoch 108/200\n",
      "64/64 [==============================] - 0s 1ms/step - loss: 0.3469 - recall: 0.4485 - val_loss: 0.3049 - val_recall: 0.5801\n",
      "Epoch 109/200\n",
      "64/64 [==============================] - 0s 1ms/step - loss: 0.3473 - recall: 0.4546 - val_loss: 0.3039 - val_recall: 0.4862\n",
      "Epoch 110/200\n",
      "64/64 [==============================] - 0s 1ms/step - loss: 0.3455 - recall: 0.4413 - val_loss: 0.3054 - val_recall: 0.5691\n",
      "Epoch 111/200\n",
      "64/64 [==============================] - 0s 1ms/step - loss: 0.3453 - recall: 0.4485 - val_loss: 0.3051 - val_recall: 0.5746\n",
      "Epoch 112/200\n",
      "64/64 [==============================] - 0s 1ms/step - loss: 0.3454 - recall: 0.4443 - val_loss: 0.3066 - val_recall: 0.6133\n",
      "Epoch 113/200\n",
      "64/64 [==============================] - 0s 1ms/step - loss: 0.3456 - recall: 0.4564 - val_loss: 0.3031 - val_recall: 0.5359\n",
      "Epoch 114/200\n",
      "64/64 [==============================] - 0s 1ms/step - loss: 0.3453 - recall: 0.4395 - val_loss: 0.3067 - val_recall: 0.6022\n",
      "Epoch 115/200\n",
      "64/64 [==============================] - 0s 1ms/step - loss: 0.3461 - recall: 0.4510 - val_loss: 0.3071 - val_recall: 0.6077\n",
      "Epoch 116/200\n",
      "64/64 [==============================] - 0s 1ms/step - loss: 0.3449 - recall: 0.4504 - val_loss: 0.3037 - val_recall: 0.4917\n",
      "Epoch 117/200\n",
      "64/64 [==============================] - 0s 1ms/step - loss: 0.3443 - recall: 0.4510 - val_loss: 0.3027 - val_recall: 0.5414\n",
      "Epoch 118/200\n",
      "64/64 [==============================] - 0s 1ms/step - loss: 0.3448 - recall: 0.4570 - val_loss: 0.3025 - val_recall: 0.4972\n",
      "Epoch 119/200\n"
     ]
    },
    {
     "name": "stdout",
     "output_type": "stream",
     "text": [
      "64/64 [==============================] - 0s 1ms/step - loss: 0.3451 - recall: 0.4425 - val_loss: 0.3031 - val_recall: 0.5414\n",
      "Epoch 00119: early stopping\n"
     ]
    },
    {
     "data": {
      "text/plain": [
       "<keras.callbacks.History at 0x273298a1670>"
      ]
     },
     "execution_count": 52,
     "metadata": {},
     "output_type": "execute_result"
    }
   ],
   "source": [
    "model.fit(x=X_train,\n",
    "          y=y_train,\n",
    "          validation_split=.1, # teste dokunmadık\n",
    "          batch_size=128,\n",
    "          epochs=200,\n",
    "          verbose=1,\n",
    "          callbacks=[early_stop])"
   ]
  },
  {
   "cell_type": "code",
   "execution_count": 53,
   "metadata": {
    "cell_style": "center",
    "scrolled": true
   },
   "outputs": [
    {
     "name": "stdout",
     "output_type": "stream",
     "text": [
      "Model: \"sequential\"\n",
      "_________________________________________________________________\n",
      "Layer (type)                 Output Shape              Param #   \n",
      "=================================================================\n",
      "dense (Dense)                (None, 16)                208       \n",
      "_________________________________________________________________\n",
      "dense_1 (Dense)              (None, 8)                 136       \n",
      "_________________________________________________________________\n",
      "dense_2 (Dense)              (None, 1)                 9         \n",
      "=================================================================\n",
      "Total params: 353\n",
      "Trainable params: 353\n",
      "Non-trainable params: 0\n",
      "_________________________________________________________________\n"
     ]
    }
   ],
   "source": [
    "model.summary()"
   ]
  },
  {
   "cell_type": "code",
   "execution_count": 54,
   "metadata": {
    "cell_style": "split",
    "executionInfo": {
     "elapsed": 809,
     "status": "ok",
     "timestamp": 1610205470123,
     "user": {
      "displayName": "Richard C",
      "photoUrl": "",
      "userId": "08040814671867660929"
     },
     "user_tz": -180
    },
    "id": "vQIbjGQduQpQ"
   },
   "outputs": [
    {
     "data": {
      "text/plain": [
       "<AxesSubplot:>"
      ]
     },
     "execution_count": 54,
     "metadata": {},
     "output_type": "execute_result"
    },
    {
     "data": {
      "image/png": "[encoded data removed]",
      "text/plain": [
       "<Figure size 864x432 with 1 Axes>"
      ]
     },
     "metadata": {},
     "output_type": "display_data"
    }
   ],
   "source": [
    "loss_df = pd.DataFrame(model.history.history)\n",
    "loss_df.plot()"
   ]
  },
  {
   "cell_type": "code",
   "execution_count": 58,
   "metadata": {
    "cell_style": "split",
    "scrolled": true,
    "tags": []
   },
   "outputs": [
    {
     "ename": "AttributeError",
     "evalue": "'Sequential' object has no attribute 'predict_classes'",
     "output_type": "error",
     "traceback": [
      "\u001b[1;31m---------------------------------------------------------------------------\u001b[0m",
      "\u001b[1;31mAttributeError\u001b[0m                            Traceback (most recent call last)",
      "\u001b[1;32m<ipython-input-58-6b40b5b62bd5>\u001b[0m in \u001b[0;36m<module>\u001b[1;34m\u001b[0m\n\u001b[1;32m----> 1\u001b[1;33m \u001b[0my_pred\u001b[0m \u001b[1;33m=\u001b[0m \u001b[0mmodel\u001b[0m\u001b[1;33m.\u001b[0m\u001b[0mpredict_classes\u001b[0m\u001b[1;33m(\u001b[0m\u001b[0mX_test\u001b[0m\u001b[1;33m)\u001b[0m\u001b[1;33m\u001b[0m\u001b[1;33m\u001b[0m\u001b[0m\n\u001b[0m\u001b[0;32m      2\u001b[0m \u001b[0mprint\u001b[0m\u001b[1;33m(\u001b[0m\u001b[0mconfusion_matrix\u001b[0m\u001b[1;33m(\u001b[0m\u001b[0my_test\u001b[0m\u001b[1;33m,\u001b[0m \u001b[0my_pred\u001b[0m\u001b[1;33m)\u001b[0m\u001b[1;33m)\u001b[0m\u001b[1;33m\u001b[0m\u001b[1;33m\u001b[0m\u001b[0m\n\u001b[0;32m      3\u001b[0m \u001b[0mprint\u001b[0m\u001b[1;33m(\u001b[0m\u001b[0mclassification_report\u001b[0m\u001b[1;33m(\u001b[0m\u001b[0my_test\u001b[0m\u001b[1;33m,\u001b[0m \u001b[0my_pred\u001b[0m\u001b[1;33m)\u001b[0m\u001b[1;33m)\u001b[0m\u001b[1;33m\u001b[0m\u001b[1;33m\u001b[0m\u001b[0m\n",
      "\u001b[1;31mAttributeError\u001b[0m: 'Sequential' object has no attribute 'predict_classes'"
     ]
    }
   ],
   "source": [
    "y_pred = model.predict_classes(X_test)\n",
    "print(confusion_matrix(y_test, y_pred))\n",
    "print(classification_report(y_test, y_pred))"
   ]
  },
  {
   "cell_type": "markdown",
   "metadata": {
    "tags": []
   },
   "source": [
    "### ROC (Receiver Operating Curve) and AUC (Area Under Curve) for model"
   ]
  },
  {
   "cell_type": "code",
   "execution_count": 63,
   "metadata": {
    "cell_style": "split"
   },
   "outputs": [
    {
     "data": {
      "image/png": "[encoded data removed]",
      "text/plain": [
       "<Figure size 864x432 with 1 Axes>"
      ]
     },
     "metadata": {},
     "output_type": "display_data"
    }
   ],
   "source": [
    "#y_pred_proba = model.predict_proba(X_test)\n",
    "y_pred = (model.predict(X_test) > 0.5).astype(\"int32\")\n",
    "precisions, recalls, thresholds = precision_recall_curve(y_test, y_pred)\n",
    "plt.plot(recalls, precisions, label='ANN')\n",
    "plt.xlabel('recalls')\n",
    "plt.ylabel('precisions')\n",
    "plt.title('Precision-Recall curve')\n",
    "plt.show()"
   ]
  },
  {
   "cell_type": "code",
   "execution_count": 65,
   "metadata": {
    "cell_style": "split",
    "scrolled": true
   },
   "outputs": [
    {
     "data": {
      "text/plain": [
       "0.45263853367433926"
      ]
     },
     "execution_count": 65,
     "metadata": {},
     "output_type": "execute_result"
    }
   ],
   "source": [
    "average_precision_score(y_test, y_pred)"
   ]
  },
  {
   "cell_type": "markdown",
   "metadata": {},
   "source": [
    "### with class_weigth"
   ]
  },
  {
   "cell_type": "code",
   "execution_count": 66,
   "metadata": {
    "cell_style": "split"
   },
   "outputs": [],
   "source": [
    "model = Sequential()\n",
    "\n",
    "model.add(Dense(16, activation=\"relu\"))\n",
    "model.add(Dense(8, activation=\"relu\"))\n",
    "model.add(Dense(1, activation=\"sigmoid\"))\n",
    "\n",
    "opt = Adam(lr=0.001)\n",
    "model.compile(optimizer=opt, \n",
    "              loss=\"binary_crossentropy\",\n",
    "              metrics=[\"Recall\"])"
   ]
  },
  {
   "cell_type": "code",
   "execution_count": 67,
   "metadata": {
    "cell_style": "split"
   },
   "outputs": [],
   "source": [
    "early_stop = EarlyStopping(monitor=\"val_loss\",\n",
    "                           mode=\"auto\",\n",
    "                           verbose=1,\n",
    "                           patience=15)"
   ]
  },
  {
   "cell_type": "code",
   "execution_count": 69,
   "metadata": {},
   "outputs": [
    {
     "data": {
      "text/plain": [
       "{0: 0.6278777731268314, 1: 2.454991816693944}"
      ]
     },
     "execution_count": 69,
     "metadata": {},
     "output_type": "execute_result"
    }
   ],
   "source": [
    "from sklearn.utils import class_weight\n",
    "\n",
    "class_weights = class_weight.compute_class_weight('balanced',\n",
    "                                                  classes=np.unique(y_train),\n",
    "                                                  y=y_train)\n",
    "\n",
    "class_weights = {0: class_weights[0], 1: class_weights[1]}\n",
    "class_weights\n",
    "# 4 kat vermiş"
   ]
  },
  {
   "cell_type": "code",
   "execution_count": 74,
   "metadata": {
    "scrolled": true
   },
   "outputs": [
    {
     "name": "stdout",
     "output_type": "stream",
     "text": [
      "Epoch 1/200\n",
      "64/64 [==============================] - 0s 2ms/step - loss: 0.4739 - recall: 0.7585 - val_loss: 0.4122 - val_recall: 0.8011\n",
      "Epoch 2/200\n",
      "64/64 [==============================] - 0s 2ms/step - loss: 0.4751 - recall: 0.7530 - val_loss: 0.4642 - val_recall: 0.8287\n",
      "Epoch 3/200\n",
      "64/64 [==============================] - 0s 2ms/step - loss: 0.4734 - recall: 0.7603 - val_loss: 0.4307 - val_recall: 0.8066\n",
      "Epoch 4/200\n",
      "64/64 [==============================] - 0s 2ms/step - loss: 0.4730 - recall: 0.7615 - val_loss: 0.4570 - val_recall: 0.8232\n",
      "Epoch 5/200\n",
      "64/64 [==============================] - 0s 2ms/step - loss: 0.4711 - recall: 0.7694 - val_loss: 0.4360 - val_recall: 0.8287\n",
      "Epoch 6/200\n",
      "64/64 [==============================] - 0s 2ms/step - loss: 0.4719 - recall: 0.7561 - val_loss: 0.4191 - val_recall: 0.8066\n",
      "Epoch 7/200\n",
      "64/64 [==============================] - 0s 3ms/step - loss: 0.4697 - recall: 0.7694 - val_loss: 0.4937 - val_recall: 0.8398\n",
      "Epoch 8/200\n",
      "64/64 [==============================] - 0s 3ms/step - loss: 0.4706 - recall: 0.7579 - val_loss: 0.4459 - val_recall: 0.8232\n",
      "Epoch 9/200\n",
      "64/64 [==============================] - 0s 2ms/step - loss: 0.4692 - recall: 0.7700 - val_loss: 0.3924 - val_recall: 0.7956\n",
      "Epoch 10/200\n",
      "64/64 [==============================] - 0s 2ms/step - loss: 0.4707 - recall: 0.7476 - val_loss: 0.4654 - val_recall: 0.8343\n",
      "Epoch 11/200\n",
      "64/64 [==============================] - 0s 3ms/step - loss: 0.4698 - recall: 0.7645 - val_loss: 0.4373 - val_recall: 0.8232\n",
      "Epoch 12/200\n",
      "64/64 [==============================] - 0s 2ms/step - loss: 0.4700 - recall: 0.7603 - val_loss: 0.4655 - val_recall: 0.8287\n",
      "Epoch 13/200\n",
      "64/64 [==============================] - 0s 2ms/step - loss: 0.4684 - recall: 0.7645 - val_loss: 0.4709 - val_recall: 0.8343\n",
      "Epoch 14/200\n",
      "64/64 [==============================] - 0s 3ms/step - loss: 0.4692 - recall: 0.7700 - val_loss: 0.4166 - val_recall: 0.8066\n",
      "Epoch 15/200\n",
      "64/64 [==============================] - 0s 3ms/step - loss: 0.4688 - recall: 0.7561 - val_loss: 0.4335 - val_recall: 0.8232\n",
      "Epoch 16/200\n",
      "64/64 [==============================] - 0s 3ms/step - loss: 0.4683 - recall: 0.7682 - val_loss: 0.4035 - val_recall: 0.8066\n",
      "Epoch 17/200\n",
      "64/64 [==============================] - 0s 2ms/step - loss: 0.4689 - recall: 0.7591 - val_loss: 0.4022 - val_recall: 0.7845\n",
      "Epoch 18/200\n",
      "64/64 [==============================] - 0s 2ms/step - loss: 0.4700 - recall: 0.7561 - val_loss: 0.4515 - val_recall: 0.8343\n",
      "Epoch 19/200\n",
      "64/64 [==============================] - 0s 2ms/step - loss: 0.4677 - recall: 0.7554 - val_loss: 0.4547 - val_recall: 0.8343\n",
      "Epoch 20/200\n",
      "64/64 [==============================] - 0s 2ms/step - loss: 0.4678 - recall: 0.7554 - val_loss: 0.4181 - val_recall: 0.8177\n",
      "Epoch 21/200\n",
      "64/64 [==============================] - 0s 2ms/step - loss: 0.4683 - recall: 0.7603 - val_loss: 0.4215 - val_recall: 0.8122\n",
      "Epoch 22/200\n",
      "64/64 [==============================] - 0s 2ms/step - loss: 0.4668 - recall: 0.7657 - val_loss: 0.4385 - val_recall: 0.8287\n",
      "Epoch 23/200\n",
      "64/64 [==============================] - 0s 2ms/step - loss: 0.4674 - recall: 0.7688 - val_loss: 0.4236 - val_recall: 0.8122\n",
      "Epoch 24/200\n",
      "64/64 [==============================] - 0s 2ms/step - loss: 0.4668 - recall: 0.7573 - val_loss: 0.4797 - val_recall: 0.8453\n",
      "Epoch 00024: early stopping\n"
     ]
    },
    {
     "data": {
      "text/plain": [
       "<keras.callbacks.History at 0x273281929d0>"
      ]
     },
     "execution_count": 74,
     "metadata": {},
     "output_type": "execute_result"
    }
   ],
   "source": [
    "model.fit(x=X_train,\n",
    "          y=y_train,\n",
    "          validation_split=.1,\n",
    "          batch_size=128,\n",
    "          epochs=200,\n",
    "          verbose=1,\n",
    "          callbacks=[early_stop],\n",
    "          class_weight=class_weights)"
   ]
  },
  {
   "cell_type": "code",
   "execution_count": 75,
   "metadata": {
    "cell_style": "split",
    "executionInfo": {
     "elapsed": 809,
     "status": "ok",
     "timestamp": 1610205470123,
     "user": {
      "displayName": "Richard C",
      "photoUrl": "",
      "userId": "08040814671867660929"
     },
     "user_tz": -180
    },
    "id": "vQIbjGQduQpQ",
    "scrolled": true
   },
   "outputs": [
    {
     "data": {
      "text/plain": [
       "<AxesSubplot:>"
      ]
     },
     "execution_count": 75,
     "metadata": {},
     "output_type": "execute_result"
    },
    {
     "data": {
      "image/png": "[encoded data removed]",
      "text/plain": [
       "<Figure size 864x432 with 1 Axes>"
      ]
     },
     "metadata": {},
     "output_type": "display_data"
    }
   ],
   "source": [
    "loss_df = pd.DataFrame(model.history.history)\n",
    "loss_df.plot()"
   ]
  },
  {
   "cell_type": "code",
   "execution_count": 78,
   "metadata": {
    "cell_style": "split"
   },
   "outputs": [
    {
     "ename": "ValueError",
     "evalue": "Classification metrics can't handle a mix of binary and continuous targets",
     "output_type": "error",
     "traceback": [
      "\u001b[1;31m---------------------------------------------------------------------------\u001b[0m",
      "\u001b[1;31mValueError\u001b[0m                                Traceback (most recent call last)",
      "\u001b[1;32m<ipython-input-78-a8167b22e33f>\u001b[0m in \u001b[0;36m<module>\u001b[1;34m\u001b[0m\n\u001b[0;32m      1\u001b[0m \u001b[0my_pred\u001b[0m \u001b[1;33m=\u001b[0m \u001b[0mmodel\u001b[0m\u001b[1;33m.\u001b[0m\u001b[0mpredict\u001b[0m\u001b[1;33m(\u001b[0m\u001b[0mX_test\u001b[0m\u001b[1;33m)\u001b[0m\u001b[1;33m\u001b[0m\u001b[1;33m\u001b[0m\u001b[0m\n\u001b[1;32m----> 2\u001b[1;33m \u001b[0mprint\u001b[0m\u001b[1;33m(\u001b[0m\u001b[0mconfusion_matrix\u001b[0m\u001b[1;33m(\u001b[0m\u001b[0my_test\u001b[0m\u001b[1;33m,\u001b[0m \u001b[0my_pred\u001b[0m\u001b[1;33m)\u001b[0m\u001b[1;33m)\u001b[0m\u001b[1;33m\u001b[0m\u001b[1;33m\u001b[0m\u001b[0m\n\u001b[0m\u001b[0;32m      3\u001b[0m \u001b[0mprint\u001b[0m\u001b[1;33m(\u001b[0m\u001b[0mclassification_report\u001b[0m\u001b[1;33m(\u001b[0m\u001b[0my_test\u001b[0m\u001b[1;33m,\u001b[0m \u001b[0my_pred\u001b[0m\u001b[1;33m)\u001b[0m\u001b[1;33m)\u001b[0m\u001b[1;33m\u001b[0m\u001b[1;33m\u001b[0m\u001b[0m\n",
      "\u001b[1;32m~\\AppData\\Roaming\\Python\\Python38\\site-packages\\sklearn\\utils\\validation.py\u001b[0m in \u001b[0;36minner_f\u001b[1;34m(*args, **kwargs)\u001b[0m\n\u001b[0;32m     61\u001b[0m             \u001b[0mextra_args\u001b[0m \u001b[1;33m=\u001b[0m \u001b[0mlen\u001b[0m\u001b[1;33m(\u001b[0m\u001b[0margs\u001b[0m\u001b[1;33m)\u001b[0m \u001b[1;33m-\u001b[0m \u001b[0mlen\u001b[0m\u001b[1;33m(\u001b[0m\u001b[0mall_args\u001b[0m\u001b[1;33m)\u001b[0m\u001b[1;33m\u001b[0m\u001b[1;33m\u001b[0m\u001b[0m\n\u001b[0;32m     62\u001b[0m             \u001b[1;32mif\u001b[0m \u001b[0mextra_args\u001b[0m \u001b[1;33m<=\u001b[0m \u001b[1;36m0\u001b[0m\u001b[1;33m:\u001b[0m\u001b[1;33m\u001b[0m\u001b[1;33m\u001b[0m\u001b[0m\n\u001b[1;32m---> 63\u001b[1;33m                 \u001b[1;32mreturn\u001b[0m \u001b[0mf\u001b[0m\u001b[1;33m(\u001b[0m\u001b[1;33m*\u001b[0m\u001b[0margs\u001b[0m\u001b[1;33m,\u001b[0m \u001b[1;33m**\u001b[0m\u001b[0mkwargs\u001b[0m\u001b[1;33m)\u001b[0m\u001b[1;33m\u001b[0m\u001b[1;33m\u001b[0m\u001b[0m\n\u001b[0m\u001b[0;32m     64\u001b[0m \u001b[1;33m\u001b[0m\u001b[0m\n\u001b[0;32m     65\u001b[0m             \u001b[1;31m# extra_args > 0\u001b[0m\u001b[1;33m\u001b[0m\u001b[1;33m\u001b[0m\u001b[1;33m\u001b[0m\u001b[0m\n",
      "\u001b[1;32m~\\AppData\\Roaming\\Python\\Python38\\site-packages\\sklearn\\metrics\\_classification.py\u001b[0m in \u001b[0;36mconfusion_matrix\u001b[1;34m(y_true, y_pred, labels, sample_weight, normalize)\u001b[0m\n\u001b[0;32m    297\u001b[0m \u001b[1;33m\u001b[0m\u001b[0m\n\u001b[0;32m    298\u001b[0m     \"\"\"\n\u001b[1;32m--> 299\u001b[1;33m     \u001b[0my_type\u001b[0m\u001b[1;33m,\u001b[0m \u001b[0my_true\u001b[0m\u001b[1;33m,\u001b[0m \u001b[0my_pred\u001b[0m \u001b[1;33m=\u001b[0m \u001b[0m_check_targets\u001b[0m\u001b[1;33m(\u001b[0m\u001b[0my_true\u001b[0m\u001b[1;33m,\u001b[0m \u001b[0my_pred\u001b[0m\u001b[1;33m)\u001b[0m\u001b[1;33m\u001b[0m\u001b[1;33m\u001b[0m\u001b[0m\n\u001b[0m\u001b[0;32m    300\u001b[0m     \u001b[1;32mif\u001b[0m \u001b[0my_type\u001b[0m \u001b[1;32mnot\u001b[0m \u001b[1;32min\u001b[0m \u001b[1;33m(\u001b[0m\u001b[1;34m\"binary\"\u001b[0m\u001b[1;33m,\u001b[0m \u001b[1;34m\"multiclass\"\u001b[0m\u001b[1;33m)\u001b[0m\u001b[1;33m:\u001b[0m\u001b[1;33m\u001b[0m\u001b[1;33m\u001b[0m\u001b[0m\n\u001b[0;32m    301\u001b[0m         \u001b[1;32mraise\u001b[0m \u001b[0mValueError\u001b[0m\u001b[1;33m(\u001b[0m\u001b[1;34m\"%s is not supported\"\u001b[0m \u001b[1;33m%\u001b[0m \u001b[0my_type\u001b[0m\u001b[1;33m)\u001b[0m\u001b[1;33m\u001b[0m\u001b[1;33m\u001b[0m\u001b[0m\n",
      "\u001b[1;32m~\\AppData\\Roaming\\Python\\Python38\\site-packages\\sklearn\\metrics\\_classification.py\u001b[0m in \u001b[0;36m_check_targets\u001b[1;34m(y_true, y_pred)\u001b[0m\n\u001b[0;32m     90\u001b[0m \u001b[1;33m\u001b[0m\u001b[0m\n\u001b[0;32m     91\u001b[0m     \u001b[1;32mif\u001b[0m \u001b[0mlen\u001b[0m\u001b[1;33m(\u001b[0m\u001b[0my_type\u001b[0m\u001b[1;33m)\u001b[0m \u001b[1;33m>\u001b[0m \u001b[1;36m1\u001b[0m\u001b[1;33m:\u001b[0m\u001b[1;33m\u001b[0m\u001b[1;33m\u001b[0m\u001b[0m\n\u001b[1;32m---> 92\u001b[1;33m         raise ValueError(\"Classification metrics can't handle a mix of {0} \"\n\u001b[0m\u001b[0;32m     93\u001b[0m                          \"and {1} targets\".format(type_true, type_pred))\n\u001b[0;32m     94\u001b[0m \u001b[1;33m\u001b[0m\u001b[0m\n",
      "\u001b[1;31mValueError\u001b[0m: Classification metrics can't handle a mix of binary and continuous targets"
     ]
    }
   ],
   "source": [
    "y_pred = model.predict(X_test)\n",
    "print(confusion_matrix(y_test, y_pred))\n",
    "print(classification_report(y_test, y_pred))"
   ]
  },
  {
   "cell_type": "markdown",
   "metadata": {},
   "source": [
    "### ROC (Receiver Operating Curve) and AUC (Area Under Curve) for model"
   ]
  },
  {
   "cell_type": "code",
   "execution_count": 79,
   "metadata": {
    "cell_style": "split",
    "scrolled": true
   },
   "outputs": [
    {
     "ename": "AttributeError",
     "evalue": "'Sequential' object has no attribute 'predict_proba'",
     "output_type": "error",
     "traceback": [
      "\u001b[1;31m---------------------------------------------------------------------------\u001b[0m",
      "\u001b[1;31mAttributeError\u001b[0m                            Traceback (most recent call last)",
      "\u001b[1;32m<ipython-input-79-1cfd516a6349>\u001b[0m in \u001b[0;36m<module>\u001b[1;34m\u001b[0m\n\u001b[1;32m----> 1\u001b[1;33m \u001b[0my_pred_proba\u001b[0m \u001b[1;33m=\u001b[0m \u001b[0mmodel\u001b[0m\u001b[1;33m.\u001b[0m\u001b[0mpredict_proba\u001b[0m\u001b[1;33m(\u001b[0m\u001b[0mX_test\u001b[0m\u001b[1;33m)\u001b[0m\u001b[1;33m\u001b[0m\u001b[1;33m\u001b[0m\u001b[0m\n\u001b[0m\u001b[0;32m      2\u001b[0m \u001b[0mprecisions\u001b[0m\u001b[1;33m,\u001b[0m \u001b[0mrecalls\u001b[0m\u001b[1;33m,\u001b[0m \u001b[0mthresholds\u001b[0m \u001b[1;33m=\u001b[0m \u001b[0mprecision_recall_curve\u001b[0m\u001b[1;33m(\u001b[0m\u001b[0my_test\u001b[0m\u001b[1;33m,\u001b[0m \u001b[0my_pred_proba\u001b[0m\u001b[1;33m)\u001b[0m\u001b[1;33m\u001b[0m\u001b[1;33m\u001b[0m\u001b[0m\n\u001b[0;32m      3\u001b[0m \u001b[0mplt\u001b[0m\u001b[1;33m.\u001b[0m\u001b[0mplot\u001b[0m\u001b[1;33m(\u001b[0m\u001b[0mrecalls\u001b[0m\u001b[1;33m,\u001b[0m \u001b[0mprecisions\u001b[0m\u001b[1;33m,\u001b[0m \u001b[0mlabel\u001b[0m\u001b[1;33m=\u001b[0m\u001b[1;34m'ANN'\u001b[0m\u001b[1;33m)\u001b[0m\u001b[1;33m\u001b[0m\u001b[1;33m\u001b[0m\u001b[0m\n\u001b[0;32m      4\u001b[0m \u001b[0mplt\u001b[0m\u001b[1;33m.\u001b[0m\u001b[0mxlabel\u001b[0m\u001b[1;33m(\u001b[0m\u001b[1;34m'recalls'\u001b[0m\u001b[1;33m)\u001b[0m\u001b[1;33m\u001b[0m\u001b[1;33m\u001b[0m\u001b[0m\n\u001b[0;32m      5\u001b[0m \u001b[0mplt\u001b[0m\u001b[1;33m.\u001b[0m\u001b[0mylabel\u001b[0m\u001b[1;33m(\u001b[0m\u001b[1;34m'precisions'\u001b[0m\u001b[1;33m)\u001b[0m\u001b[1;33m\u001b[0m\u001b[1;33m\u001b[0m\u001b[0m\n",
      "\u001b[1;31mAttributeError\u001b[0m: 'Sequential' object has no attribute 'predict_proba'"
     ]
    }
   ],
   "source": [
    "y_pred_proba = model.predict_proba(X_test)\n",
    "precisions, recalls, thresholds = precision_recall_curve(y_test, y_pred_proba)\n",
    "plt.plot(recalls, precisions, label='ANN')\n",
    "plt.xlabel('recalls')\n",
    "plt.ylabel('precisions')\n",
    "plt.title('Precision-Recall curve')\n",
    "plt.show()"
   ]
  },
  {
   "cell_type": "code",
   "execution_count": 80,
   "metadata": {
    "cell_style": "split"
   },
   "outputs": [
    {
     "ename": "NameError",
     "evalue": "name 'y_pred_proba' is not defined",
     "output_type": "error",
     "traceback": [
      "\u001b[1;31m---------------------------------------------------------------------------\u001b[0m",
      "\u001b[1;31mNameError\u001b[0m                                 Traceback (most recent call last)",
      "\u001b[1;32m<ipython-input-80-ad5f85271e80>\u001b[0m in \u001b[0;36m<module>\u001b[1;34m\u001b[0m\n\u001b[1;32m----> 1\u001b[1;33m \u001b[0maverage_precision_score\u001b[0m\u001b[1;33m(\u001b[0m\u001b[0my_test\u001b[0m\u001b[1;33m,\u001b[0m \u001b[0my_pred_proba\u001b[0m\u001b[1;33m)\u001b[0m\u001b[1;33m\u001b[0m\u001b[1;33m\u001b[0m\u001b[0m\n\u001b[0m",
      "\u001b[1;31mNameError\u001b[0m: name 'y_pred_proba' is not defined"
     ]
    }
   ],
   "source": [
    "average_precision_score(y_test, y_pred)"
   ]
  },
  {
   "cell_type": "markdown",
   "metadata": {},
   "source": [
    "## GridSearchCV"
   ]
  },
  {
   "cell_type": "code",
   "execution_count": 86,
   "metadata": {},
   "outputs": [],
   "source": [
    "from tensorflow.keras.wrappers.scikit_learn import KerasClassifier"
   ]
  },
  {
   "cell_type": "code",
   "execution_count": 87,
   "metadata": {},
   "outputs": [],
   "source": [
    "def build_classifier(optimizer):\n",
    "    classifier = Sequential()\n",
    "    classifier.add(Dense(units=16, activation='relu'))\n",
    "    classifier.add(Dense(units=8, activation='relu'))\n",
    "    classifier.add(Dense(units=1, activation='sigmoid'))\n",
    "    classifier.compile(optimizer=optimizer,\n",
    "                       loss='binary_crossentropy',\n",
    "                       metrics=['Recall'])\n",
    "    return classifier"
   ]
  },
  {
   "cell_type": "code",
   "execution_count": 88,
   "metadata": {},
   "outputs": [
    {
     "data": {
      "text/plain": [
       "{0: 0.6278777731268314, 1: 2.454991816693944}"
      ]
     },
     "execution_count": 88,
     "metadata": {},
     "output_type": "execute_result"
    }
   ],
   "source": [
    "class_weights"
   ]
  },
  {
   "cell_type": "code",
   "execution_count": 89,
   "metadata": {
    "scrolled": true
   },
   "outputs": [
    {
     "name": "stdout",
     "output_type": "stream",
     "text": [
      "Epoch 1/150\n",
      "36/36 [==============================] - 1s 1ms/step - loss: 0.6853 - recall: 0.1942 \n",
      "Epoch 2/150\n",
      "36/36 [==============================] - 0s 1ms/step - loss: 0.6728 - recall: 0.4495\n",
      "Epoch 3/150\n",
      "36/36 [==============================] - 0s 1ms/step - loss: 0.6623 - recall: 0.5161\n",
      "Epoch 4/150\n",
      "36/36 [==============================] - 0s 1ms/step - loss: 0.6521 - recall: 0.5396\n",
      "Epoch 5/150\n",
      "36/36 [==============================] - 0s 1ms/step - loss: 0.6427 - recall: 0.5887\n",
      "Epoch 6/150\n",
      "36/36 [==============================] - 0s 2ms/step - loss: 0.6346 - recall: 0.6072\n",
      "Epoch 7/150\n",
      "36/36 [==============================] - 0s 2ms/step - loss: 0.6270 - recall: 0.6181\n",
      "Epoch 8/150\n",
      "36/36 [==============================] - 0s 2ms/step - loss: 0.6197 - recall: 0.6410\n",
      "Epoch 9/150\n",
      "36/36 [==============================] - 0s 1ms/step - loss: 0.6138 - recall: 0.6481\n",
      "Epoch 10/150\n",
      "36/36 [==============================] - 0s 1ms/step - loss: 0.6091 - recall: 0.6579\n",
      "Epoch 11/150\n",
      "36/36 [==============================] - 0s 2ms/step - loss: 0.6045 - recall: 0.6481\n",
      "Epoch 12/150\n",
      "36/36 [==============================] - 0s 2ms/step - loss: 0.6006 - recall: 0.6661\n",
      "Epoch 13/150\n",
      "36/36 [==============================] - 0s 1ms/step - loss: 0.5967 - recall: 0.6705\n",
      "Epoch 14/150\n",
      "36/36 [==============================] - 0s 1ms/step - loss: 0.5929 - recall: 0.6607\n",
      "Epoch 15/150\n",
      "36/36 [==============================] - 0s 1ms/step - loss: 0.5893 - recall: 0.6678\n",
      "Epoch 16/150\n",
      "36/36 [==============================] - 0s 1ms/step - loss: 0.5853 - recall: 0.6787\n",
      "Epoch 17/150\n",
      "36/36 [==============================] - 0s 1ms/step - loss: 0.5819 - recall: 0.6776\n",
      "Epoch 18/150\n",
      "36/36 [==============================] - 0s 1ms/step - loss: 0.5786 - recall: 0.6869\n",
      "Epoch 19/150\n",
      "36/36 [==============================] - 0s 1ms/step - loss: 0.5756 - recall: 0.6907\n",
      "Epoch 20/150\n",
      "36/36 [==============================] - 0s 1ms/step - loss: 0.5722 - recall: 0.6907\n",
      "Epoch 21/150\n",
      "36/36 [==============================] - 0s 1ms/step - loss: 0.5693 - recall: 0.6896\n",
      "Epoch 22/150\n",
      "36/36 [==============================] - 0s 2ms/step - loss: 0.5663 - recall: 0.6896\n",
      "Epoch 23/150\n",
      "36/36 [==============================] - 0s 2ms/step - loss: 0.5636 - recall: 0.7038\n",
      "Epoch 24/150\n",
      "36/36 [==============================] - 0s 2ms/step - loss: 0.5612 - recall: 0.7032\n",
      "Epoch 25/150\n",
      "36/36 [==============================] - 0s 1ms/step - loss: 0.5589 - recall: 0.7059\n",
      "Epoch 26/150\n",
      "36/36 [==============================] - 0s 2ms/step - loss: 0.5569 - recall: 0.7038\n",
      "Epoch 27/150\n",
      "36/36 [==============================] - 0s 1ms/step - loss: 0.5551 - recall: 0.7032\n",
      "Epoch 28/150\n",
      "36/36 [==============================] - 0s 1ms/step - loss: 0.5527 - recall: 0.7016\n",
      "Epoch 29/150\n",
      "36/36 [==============================] - 0s 1ms/step - loss: 0.5509 - recall: 0.7081\n",
      "Epoch 30/150\n",
      "36/36 [==============================] - 0s 1ms/step - loss: 0.5488 - recall: 0.7109\n",
      "Epoch 31/150\n",
      "36/36 [==============================] - 0s 2ms/step - loss: 0.5467 - recall: 0.7119\n",
      "Epoch 32/150\n",
      "36/36 [==============================] - 0s 2ms/step - loss: 0.5447 - recall: 0.7103\n",
      "Epoch 33/150\n",
      "36/36 [==============================] - 0s 2ms/step - loss: 0.5427 - recall: 0.7239\n",
      "Epoch 34/150\n",
      "36/36 [==============================] - 0s 2ms/step - loss: 0.5405 - recall: 0.7272\n",
      "Epoch 35/150\n",
      "36/36 [==============================] - 0s 2ms/step - loss: 0.5390 - recall: 0.7201\n",
      "Epoch 36/150\n",
      "36/36 [==============================] - 0s 2ms/step - loss: 0.5367 - recall: 0.7289\n",
      "Epoch 37/150\n",
      "36/36 [==============================] - 0s 2ms/step - loss: 0.5342 - recall: 0.7365\n",
      "Epoch 38/150\n",
      "36/36 [==============================] - 0s 1ms/step - loss: 0.5322 - recall: 0.7332\n",
      "Epoch 39/150\n",
      "36/36 [==============================] - 0s 1ms/step - loss: 0.5301 - recall: 0.7310\n",
      "Epoch 40/150\n",
      "36/36 [==============================] - 0s 1ms/step - loss: 0.5285 - recall: 0.7316\n",
      "Epoch 41/150\n",
      "36/36 [==============================] - 0s 1ms/step - loss: 0.5263 - recall: 0.7338\n",
      "Epoch 42/150\n",
      "36/36 [==============================] - 0s 1ms/step - loss: 0.5245 - recall: 0.7327\n",
      "Epoch 43/150\n",
      "36/36 [==============================] - 0s 1ms/step - loss: 0.5228 - recall: 0.7338\n",
      "Epoch 44/150\n",
      "36/36 [==============================] - 0s 2ms/step - loss: 0.5208 - recall: 0.7305\n",
      "Epoch 45/150\n",
      "36/36 [==============================] - 0s 1ms/step - loss: 0.5186 - recall: 0.7316\n",
      "Epoch 46/150\n",
      "36/36 [==============================] - 0s 1ms/step - loss: 0.5164 - recall: 0.7321\n",
      "Epoch 47/150\n",
      "36/36 [==============================] - 0s 2ms/step - loss: 0.5147 - recall: 0.7436\n",
      "Epoch 48/150\n",
      "36/36 [==============================] - 0s 2ms/step - loss: 0.5126 - recall: 0.7398\n",
      "Epoch 49/150\n",
      "36/36 [==============================] - 0s 1ms/step - loss: 0.5109 - recall: 0.7414\n",
      "Epoch 50/150\n",
      "36/36 [==============================] - 0s 1ms/step - loss: 0.5091 - recall: 0.7452\n",
      "Epoch 51/150\n",
      "36/36 [==============================] - 0s 1ms/step - loss: 0.5076 - recall: 0.7441\n",
      "Epoch 52/150\n",
      "36/36 [==============================] - 0s 1ms/step - loss: 0.5055 - recall: 0.7463\n",
      "Epoch 53/150\n",
      "36/36 [==============================] - 0s 1ms/step - loss: 0.5038 - recall: 0.7550\n",
      "Epoch 54/150\n",
      "36/36 [==============================] - 0s 1ms/step - loss: 0.5020 - recall: 0.7540\n",
      "Epoch 55/150\n",
      "36/36 [==============================] - 0s 1ms/step - loss: 0.5002 - recall: 0.7556\n",
      "Epoch 56/150\n",
      "36/36 [==============================] - 0s 1ms/step - loss: 0.4989 - recall: 0.7610\n",
      "Epoch 57/150\n",
      "36/36 [==============================] - 0s 1ms/step - loss: 0.4973 - recall: 0.7594\n",
      "Epoch 58/150\n",
      "36/36 [==============================] - 0s 1ms/step - loss: 0.4955 - recall: 0.7578\n",
      "Epoch 59/150\n",
      "36/36 [==============================] - 0s 2ms/step - loss: 0.4942 - recall: 0.7550\n",
      "Epoch 60/150\n",
      "36/36 [==============================] - 0s 1ms/step - loss: 0.4928 - recall: 0.7485\n",
      "Epoch 61/150\n",
      "36/36 [==============================] - 0s 1ms/step - loss: 0.4920 - recall: 0.7578\n",
      "Epoch 62/150\n",
      "36/36 [==============================] - 0s 1ms/step - loss: 0.4900 - recall: 0.7556\n",
      "Epoch 63/150\n",
      "36/36 [==============================] - 0s 1ms/step - loss: 0.4885 - recall: 0.7589\n",
      "Epoch 64/150\n",
      "36/36 [==============================] - 0s 1ms/step - loss: 0.4877 - recall: 0.7643\n",
      "Epoch 65/150\n",
      "36/36 [==============================] - 0s 2ms/step - loss: 0.4866 - recall: 0.7605\n",
      "Epoch 66/150\n",
      "36/36 [==============================] - 0s 1ms/step - loss: 0.4851 - recall: 0.7583\n",
      "Epoch 67/150\n",
      "36/36 [==============================] - 0s 1ms/step - loss: 0.4846 - recall: 0.7687\n",
      "Epoch 68/150\n",
      "36/36 [==============================] - 0s 1ms/step - loss: 0.4835 - recall: 0.7578\n",
      "Epoch 69/150\n",
      "36/36 [==============================] - 0s 1ms/step - loss: 0.4832 - recall: 0.7567\n",
      "Epoch 70/150\n",
      "36/36 [==============================] - 0s 1ms/step - loss: 0.4816 - recall: 0.7610\n",
      "Epoch 71/150\n",
      "36/36 [==============================] - 0s 1ms/step - loss: 0.4817 - recall: 0.7638\n",
      "Epoch 72/150\n",
      "36/36 [==============================] - 0s 1ms/step - loss: 0.4804 - recall: 0.7578\n",
      "Epoch 73/150\n",
      "36/36 [==============================] - 0s 1ms/step - loss: 0.4791 - recall: 0.7649\n",
      "Epoch 74/150\n",
      "36/36 [==============================] - 0s 1ms/step - loss: 0.4787 - recall: 0.7600\n",
      "Epoch 75/150\n",
      "36/36 [==============================] - 0s 1ms/step - loss: 0.4780 - recall: 0.7665\n",
      "Epoch 76/150\n",
      "36/36 [==============================] - 0s 1ms/step - loss: 0.4774 - recall: 0.7610\n",
      "Epoch 77/150\n",
      "36/36 [==============================] - 0s 1ms/step - loss: 0.4768 - recall: 0.7561\n",
      "Epoch 78/150\n",
      "36/36 [==============================] - 0s 1ms/step - loss: 0.4759 - recall: 0.7621\n",
      "Epoch 79/150\n",
      "36/36 [==============================] - 0s 1ms/step - loss: 0.4755 - recall: 0.7638\n",
      "Epoch 80/150\n",
      "36/36 [==============================] - 0s 1ms/step - loss: 0.4746 - recall: 0.7649\n",
      "Epoch 81/150\n",
      "36/36 [==============================] - 0s 2ms/step - loss: 0.4739 - recall: 0.7649\n",
      "Epoch 82/150\n",
      "36/36 [==============================] - 0s 1ms/step - loss: 0.4737 - recall: 0.7610\n",
      "Epoch 83/150\n",
      "36/36 [==============================] - 0s 1ms/step - loss: 0.4727 - recall: 0.7654\n",
      "Epoch 84/150\n"
     ]
    },
    {
     "name": "stdout",
     "output_type": "stream",
     "text": [
      "36/36 [==============================] - 0s 1ms/step - loss: 0.4721 - recall: 0.7681\n",
      "Epoch 85/150\n",
      "36/36 [==============================] - 0s 1ms/step - loss: 0.4720 - recall: 0.7594\n",
      "Epoch 86/150\n",
      "36/36 [==============================] - 0s 2ms/step - loss: 0.4717 - recall: 0.7600\n",
      "Epoch 87/150\n",
      "36/36 [==============================] - 0s 1ms/step - loss: 0.4710 - recall: 0.7621\n",
      "Epoch 88/150\n",
      "36/36 [==============================] - 0s 1ms/step - loss: 0.4708 - recall: 0.7616\n",
      "Epoch 89/150\n",
      "36/36 [==============================] - 0s 1ms/step - loss: 0.4707 - recall: 0.7583\n",
      "Epoch 90/150\n",
      "36/36 [==============================] - 0s 1ms/step - loss: 0.4699 - recall: 0.7670\n",
      "Epoch 91/150\n",
      "36/36 [==============================] - 0s 1ms/step - loss: 0.4694 - recall: 0.7610\n",
      "Epoch 92/150\n",
      "36/36 [==============================] - 0s 1ms/step - loss: 0.4691 - recall: 0.7681\n",
      "Epoch 93/150\n",
      "36/36 [==============================] - 0s 1ms/step - loss: 0.4692 - recall: 0.7610\n",
      "Epoch 94/150\n",
      "36/36 [==============================] - 0s 1ms/step - loss: 0.4686 - recall: 0.7627\n",
      "Epoch 95/150\n",
      "36/36 [==============================] - 0s 1ms/step - loss: 0.4681 - recall: 0.7600\n",
      "Epoch 96/150\n",
      "36/36 [==============================] - 0s 1ms/step - loss: 0.4679 - recall: 0.7681\n",
      "Epoch 97/150\n",
      "36/36 [==============================] - 0s 1ms/step - loss: 0.4679 - recall: 0.7616\n",
      "Epoch 98/150\n",
      "36/36 [==============================] - 0s 1ms/step - loss: 0.4664 - recall: 0.7720\n",
      "Epoch 99/150\n",
      "36/36 [==============================] - 0s 1ms/step - loss: 0.4672 - recall: 0.7670\n",
      "Epoch 100/150\n",
      "36/36 [==============================] - 0s 1ms/step - loss: 0.4665 - recall: 0.7692\n",
      "Epoch 101/150\n",
      "36/36 [==============================] - 0s 1ms/step - loss: 0.4666 - recall: 0.7676\n",
      "Epoch 102/150\n",
      "36/36 [==============================] - 0s 1ms/step - loss: 0.4653 - recall: 0.7709\n",
      "Epoch 103/150\n",
      "36/36 [==============================] - 0s 1ms/step - loss: 0.4658 - recall: 0.7681\n",
      "Epoch 104/150\n",
      "36/36 [==============================] - 0s 1ms/step - loss: 0.4657 - recall: 0.7681\n",
      "Epoch 105/150\n",
      "36/36 [==============================] - 0s 2ms/step - loss: 0.4652 - recall: 0.7676\n",
      "Epoch 106/150\n",
      "36/36 [==============================] - 0s 1ms/step - loss: 0.4642 - recall: 0.7621\n",
      "Epoch 107/150\n",
      "36/36 [==============================] - 0s 1ms/step - loss: 0.4649 - recall: 0.7687\n",
      "Epoch 108/150\n",
      "36/36 [==============================] - 0s 2ms/step - loss: 0.4644 - recall: 0.7654\n",
      "Epoch 109/150\n",
      "36/36 [==============================] - 0s 1ms/step - loss: 0.4639 - recall: 0.7610\n",
      "Epoch 110/150\n",
      "36/36 [==============================] - 0s 1ms/step - loss: 0.4635 - recall: 0.7610\n",
      "Epoch 111/150\n",
      "36/36 [==============================] - 0s 1ms/step - loss: 0.4636 - recall: 0.7736\n",
      "Epoch 112/150\n",
      "36/36 [==============================] - 0s 1ms/step - loss: 0.4635 - recall: 0.7616\n",
      "Epoch 113/150\n",
      "36/36 [==============================] - 0s 1ms/step - loss: 0.4630 - recall: 0.7665\n",
      "Epoch 114/150\n",
      "36/36 [==============================] - 0s 1ms/step - loss: 0.4623 - recall: 0.7676\n",
      "Epoch 115/150\n",
      "36/36 [==============================] - 0s 1ms/step - loss: 0.4629 - recall: 0.7605\n",
      "Epoch 116/150\n",
      "36/36 [==============================] - 0s 1ms/step - loss: 0.4625 - recall: 0.7660\n",
      "Epoch 117/150\n",
      "36/36 [==============================] - 0s 1ms/step - loss: 0.4626 - recall: 0.7632\n",
      "Epoch 118/150\n",
      "36/36 [==============================] - 0s 1ms/step - loss: 0.4624 - recall: 0.7616\n",
      "Epoch 119/150\n",
      "36/36 [==============================] - 0s 1ms/step - loss: 0.4620 - recall: 0.7665\n",
      "Epoch 120/150\n",
      "36/36 [==============================] - 0s 1ms/step - loss: 0.4620 - recall: 0.7654\n",
      "Epoch 121/150\n",
      "36/36 [==============================] - 0s 1ms/step - loss: 0.4610 - recall: 0.7676\n",
      "Epoch 122/150\n",
      "36/36 [==============================] - 0s 1ms/step - loss: 0.4621 - recall: 0.7621\n",
      "Epoch 123/150\n",
      "36/36 [==============================] - 0s 1ms/step - loss: 0.4613 - recall: 0.7676\n",
      "Epoch 124/150\n",
      "36/36 [==============================] - 0s 1ms/step - loss: 0.4608 - recall: 0.7649\n",
      "Epoch 125/150\n",
      "36/36 [==============================] - 0s 1ms/step - loss: 0.4612 - recall: 0.7670\n",
      "Epoch 126/150\n",
      "36/36 [==============================] - 0s 1ms/step - loss: 0.4610 - recall: 0.7687\n",
      "Epoch 127/150\n",
      "36/36 [==============================] - 0s 2ms/step - loss: 0.4609 - recall: 0.7692\n",
      "Epoch 128/150\n",
      "36/36 [==============================] - 0s 1ms/step - loss: 0.4611 - recall: 0.7681\n",
      "Epoch 129/150\n",
      "36/36 [==============================] - 0s 2ms/step - loss: 0.4605 - recall: 0.7627\n",
      "Epoch 130/150\n",
      "36/36 [==============================] - 0s 1ms/step - loss: 0.4601 - recall: 0.7660\n",
      "Epoch 131/150\n",
      "36/36 [==============================] - 0s 1ms/step - loss: 0.4592 - recall: 0.7665\n",
      "Epoch 132/150\n",
      "36/36 [==============================] - 0s 1ms/step - loss: 0.4599 - recall: 0.7730\n",
      "Epoch 133/150\n",
      "36/36 [==============================] - 0s 1ms/step - loss: 0.4600 - recall: 0.7654\n",
      "Epoch 134/150\n",
      "36/36 [==============================] - 0s 1ms/step - loss: 0.4595 - recall: 0.7638\n",
      "Epoch 135/150\n",
      "36/36 [==============================] - 0s 1ms/step - loss: 0.4594 - recall: 0.7698\n",
      "Epoch 136/150\n",
      "36/36 [==============================] - 0s 1ms/step - loss: 0.4591 - recall: 0.7643\n",
      "Epoch 137/150\n",
      "36/36 [==============================] - 0s 1ms/step - loss: 0.4590 - recall: 0.7660\n",
      "Epoch 138/150\n",
      "36/36 [==============================] - 0s 1ms/step - loss: 0.4584 - recall: 0.7692\n",
      "Epoch 139/150\n",
      "36/36 [==============================] - 0s 1ms/step - loss: 0.4589 - recall: 0.7605\n",
      "Epoch 140/150\n",
      "36/36 [==============================] - 0s 1ms/step - loss: 0.4583 - recall: 0.7660\n",
      "Epoch 141/150\n",
      "36/36 [==============================] - 0s 1ms/step - loss: 0.4587 - recall: 0.7670\n",
      "Epoch 142/150\n",
      "36/36 [==============================] - 0s 1ms/step - loss: 0.4582 - recall: 0.7616\n",
      "Epoch 143/150\n",
      "36/36 [==============================] - 0s 1ms/step - loss: 0.4582 - recall: 0.7643\n",
      "Epoch 144/150\n",
      "36/36 [==============================] - 0s 1ms/step - loss: 0.4579 - recall: 0.7698\n",
      "Epoch 145/150\n",
      "36/36 [==============================] - 0s 1ms/step - loss: 0.4574 - recall: 0.7736\n",
      "Epoch 146/150\n",
      "36/36 [==============================] - 0s 1ms/step - loss: 0.4583 - recall: 0.7660\n",
      "Epoch 147/150\n",
      "36/36 [==============================] - 0s 1ms/step - loss: 0.4579 - recall: 0.7660\n",
      "Epoch 148/150\n",
      "36/36 [==============================] - 0s 1ms/step - loss: 0.4577 - recall: 0.7638\n",
      "Epoch 149/150\n",
      "36/36 [==============================] - 0s 1ms/step - loss: 0.4571 - recall: 0.7676\n",
      "Epoch 150/150\n",
      "36/36 [==============================] - 0s 2ms/step - loss: 0.4569 - recall: 0.7709\n"
     ]
    }
   ],
   "source": [
    "classifier = KerasClassifier(build_fn=build_classifier, epochs=150)\n",
    "parameters = {\n",
    "    'batch_size': [128, 256],\n",
    "    'optimizer': [Adam, 'rmsprop', \"SGD\", \"adagrad\", \"adadelta\"]\n",
    "}\n",
    "grid_model = GridSearchCV(estimator=classifier,\n",
    "                          param_grid=parameters,\n",
    "                          scoring='recall',\n",
    "                          cv=5,\n",
    "                          n_jobs=-1,\n",
    "                          verbose=0).fit(X_train,\n",
    "                                         y_train,\n",
    "                                         class_weight=class_weights)# fit parametresi içine yazdık weight i"
   ]
  },
  {
   "cell_type": "code",
   "execution_count": 90,
   "metadata": {},
   "outputs": [
    {
     "data": {
      "text/plain": [
       "0.7637478853503221"
      ]
     },
     "execution_count": 90,
     "metadata": {},
     "output_type": "execute_result"
    }
   ],
   "source": [
    "grid_model.best_score_"
   ]
  },
  {
   "cell_type": "code",
   "execution_count": 91,
   "metadata": {},
   "outputs": [
    {
     "data": {
      "text/plain": [
       "{'batch_size': 256, 'optimizer': 'rmsprop'}"
      ]
     },
     "execution_count": 91,
     "metadata": {},
     "output_type": "execute_result"
    }
   ],
   "source": [
    "grid_model.best_params_"
   ]
  },
  {
   "cell_type": "code",
   "execution_count": null,
   "metadata": {},
   "outputs": [],
   "source": [
    "y_pred = grid_model.predict(X_test)\n",
    "print(confusion_matrix(y_test, y_pred))\n",
    "print(classification_report(y_test, y_pred))"
   ]
  },
  {
   "cell_type": "markdown",
   "metadata": {},
   "source": [
    "### ROC (Receiver Operating Curve) and AUC (Area Under Curve) for grid_model"
   ]
  },
  {
   "cell_type": "code",
   "execution_count": 92,
   "metadata": {
    "cell_style": "split",
    "scrolled": true
   },
   "outputs": [
    {
     "data": {
      "image/png": "[encoded data removed]",
      "text/plain": [
       "<Figure size 864x432 with 1 Axes>"
      ]
     },
     "metadata": {},
     "output_type": "display_data"
    }
   ],
   "source": [
    "y_pred_proba = grid_model.predict_proba(X_test)[:, 1]\n",
    "precisions, recalls, thresholds = precision_recall_curve(y_test, y_pred_proba)\n",
    "plt.plot(recalls, precisions, label='ANN')\n",
    "plt.xlabel('recalls')\n",
    "plt.ylabel('precisions')\n",
    "plt.title('Precision-Recall curve')\n",
    "plt.show()"
   ]
  },
  {
   "cell_type": "code",
   "execution_count": 93,
   "metadata": {
    "cell_style": "split",
    "scrolled": true
   },
   "outputs": [
    {
     "data": {
      "text/plain": [
       "0.6762867870432943"
      ]
     },
     "execution_count": 93,
     "metadata": {},
     "output_type": "execute_result"
    }
   ],
   "source": [
    "average_precision_score(y_test, y_pred_proba)"
   ]
  },
  {
   "cell_type": "markdown",
   "metadata": {},
   "source": [
    "## Final Model and Model Deployment"
   ]
  },
  {
   "cell_type": "code",
   "execution_count": 94,
   "metadata": {},
   "outputs": [],
   "source": [
    "import pickle\n",
    "\n",
    "pickle.dump(scaler, open(\"scaler_churn\", 'wb'))"
   ]
  },
  {
   "cell_type": "code",
   "execution_count": 95,
   "metadata": {
    "scrolled": true
   },
   "outputs": [
    {
     "name": "stdout",
     "output_type": "stream",
     "text": [
      "Epoch 1/200\n",
      "71/71 [==============================] - 1s 4ms/step - loss: 0.6938 - recall: 0.4839 - val_loss: 0.6807 - val_recall: 0.6029\n",
      "Epoch 2/200\n",
      "71/71 [==============================] - 0s 2ms/step - loss: 0.6850 - recall: 0.4501 - val_loss: 0.6536 - val_recall: 0.4657\n",
      "Epoch 3/200\n",
      "71/71 [==============================] - 0s 2ms/step - loss: 0.6703 - recall: 0.4812 - val_loss: 0.6412 - val_recall: 0.5637\n",
      "Epoch 4/200\n",
      "71/71 [==============================] - 0s 1ms/step - loss: 0.6532 - recall: 0.5788 - val_loss: 0.6296 - val_recall: 0.6275\n",
      "Epoch 5/200\n",
      "71/71 [==============================] - 0s 2ms/step - loss: 0.6367 - recall: 0.6301 - val_loss: 0.6155 - val_recall: 0.6520\n",
      "Epoch 6/200\n",
      "71/71 [==============================] - 0s 1ms/step - loss: 0.6223 - recall: 0.6639 - val_loss: 0.6031 - val_recall: 0.6716\n",
      "Epoch 7/200\n",
      "71/71 [==============================] - 0s 1ms/step - loss: 0.6106 - recall: 0.6792 - val_loss: 0.5968 - val_recall: 0.6716\n",
      "Epoch 8/200\n",
      "71/71 [==============================] - 0s 2ms/step - loss: 0.6008 - recall: 0.6885 - val_loss: 0.6124 - val_recall: 0.6961\n",
      "Epoch 9/200\n",
      "71/71 [==============================] - 0s 1ms/step - loss: 0.5925 - recall: 0.6994 - val_loss: 0.5912 - val_recall: 0.6814\n",
      "Epoch 10/200\n",
      "71/71 [==============================] - 0s 2ms/step - loss: 0.5854 - recall: 0.7043 - val_loss: 0.6168 - val_recall: 0.7353\n",
      "Epoch 11/200\n",
      "71/71 [==============================] - 0s 2ms/step - loss: 0.5792 - recall: 0.7174 - val_loss: 0.5909 - val_recall: 0.7108\n",
      "Epoch 12/200\n",
      "71/71 [==============================] - 0s 1ms/step - loss: 0.5728 - recall: 0.7125 - val_loss: 0.6225 - val_recall: 0.7500\n",
      "Epoch 13/200\n",
      "71/71 [==============================] - 0s 1ms/step - loss: 0.5671 - recall: 0.7239 - val_loss: 0.5648 - val_recall: 0.7108\n",
      "Epoch 14/200\n",
      "71/71 [==============================] - 0s 1ms/step - loss: 0.5612 - recall: 0.7163 - val_loss: 0.5886 - val_recall: 0.7255\n",
      "Epoch 15/200\n",
      "71/71 [==============================] - 0s 1ms/step - loss: 0.5563 - recall: 0.7223 - val_loss: 0.5705 - val_recall: 0.7157\n",
      "Epoch 16/200\n",
      "71/71 [==============================] - 0s 2ms/step - loss: 0.5514 - recall: 0.7250 - val_loss: 0.5526 - val_recall: 0.6961\n",
      "Epoch 17/200\n",
      "71/71 [==============================] - 0s 1ms/step - loss: 0.5465 - recall: 0.7234 - val_loss: 0.5439 - val_recall: 0.6814\n",
      "Epoch 18/200\n",
      "71/71 [==============================] - 0s 2ms/step - loss: 0.5426 - recall: 0.7212 - val_loss: 0.5498 - val_recall: 0.7157\n",
      "Epoch 19/200\n",
      "71/71 [==============================] - 0s 1ms/step - loss: 0.5375 - recall: 0.7327 - val_loss: 0.5310 - val_recall: 0.6961\n",
      "Epoch 20/200\n",
      "71/71 [==============================] - 0s 1ms/step - loss: 0.5338 - recall: 0.7316 - val_loss: 0.5423 - val_recall: 0.7206\n",
      "Epoch 21/200\n",
      "71/71 [==============================] - 0s 2ms/step - loss: 0.5296 - recall: 0.7332 - val_loss: 0.5584 - val_recall: 0.7500\n",
      "Epoch 22/200\n",
      "71/71 [==============================] - 0s 2ms/step - loss: 0.5259 - recall: 0.7409 - val_loss: 0.5354 - val_recall: 0.7304\n",
      "Epoch 23/200\n",
      "71/71 [==============================] - 0s 1ms/step - loss: 0.5216 - recall: 0.7316 - val_loss: 0.5189 - val_recall: 0.7010\n",
      "Epoch 24/200\n",
      "71/71 [==============================] - 0s 1ms/step - loss: 0.5186 - recall: 0.7403 - val_loss: 0.5026 - val_recall: 0.6814\n",
      "Epoch 25/200\n",
      "71/71 [==============================] - 0s 1ms/step - loss: 0.5148 - recall: 0.7409 - val_loss: 0.5183 - val_recall: 0.7353\n",
      "Epoch 26/200\n",
      "71/71 [==============================] - 0s 2ms/step - loss: 0.5116 - recall: 0.7414 - val_loss: 0.5203 - val_recall: 0.7549\n",
      "Epoch 27/200\n",
      "71/71 [==============================] - 0s 2ms/step - loss: 0.5081 - recall: 0.7501 - val_loss: 0.5200 - val_recall: 0.7549\n",
      "Epoch 28/200\n",
      "71/71 [==============================] - 0s 1ms/step - loss: 0.5055 - recall: 0.7518 - val_loss: 0.4982 - val_recall: 0.7353\n",
      "Epoch 29/200\n",
      "71/71 [==============================] - 0s 1ms/step - loss: 0.5031 - recall: 0.7463 - val_loss: 0.4731 - val_recall: 0.6863\n",
      "Epoch 30/200\n",
      "71/71 [==============================] - 0s 1ms/step - loss: 0.5008 - recall: 0.7485 - val_loss: 0.5616 - val_recall: 0.7990\n",
      "Epoch 31/200\n",
      "71/71 [==============================] - 0s 1ms/step - loss: 0.4983 - recall: 0.7556 - val_loss: 0.5085 - val_recall: 0.7598\n",
      "Epoch 32/200\n",
      "71/71 [==============================] - 0s 2ms/step - loss: 0.4963 - recall: 0.7572 - val_loss: 0.4945 - val_recall: 0.7451\n",
      "Epoch 33/200\n",
      "71/71 [==============================] - 0s 2ms/step - loss: 0.4939 - recall: 0.7572 - val_loss: 0.4970 - val_recall: 0.7598\n",
      "Epoch 34/200\n",
      "71/71 [==============================] - 0s 1ms/step - loss: 0.4924 - recall: 0.7540 - val_loss: 0.5226 - val_recall: 0.7892\n",
      "Epoch 35/200\n",
      "71/71 [==============================] - 0s 1ms/step - loss: 0.4913 - recall: 0.7534 - val_loss: 0.5196 - val_recall: 0.7843\n",
      "Epoch 36/200\n",
      "71/71 [==============================] - 0s 2ms/step - loss: 0.4894 - recall: 0.7616 - val_loss: 0.4539 - val_recall: 0.6863\n",
      "Epoch 37/200\n",
      "71/71 [==============================] - 0s 1ms/step - loss: 0.4881 - recall: 0.7572 - val_loss: 0.4787 - val_recall: 0.7353\n",
      "Epoch 38/200\n",
      "71/71 [==============================] - 0s 1ms/step - loss: 0.4876 - recall: 0.7616 - val_loss: 0.4710 - val_recall: 0.7255\n",
      "Epoch 39/200\n",
      "71/71 [==============================] - 0s 1ms/step - loss: 0.4858 - recall: 0.7540 - val_loss: 0.5209 - val_recall: 0.7843\n",
      "Epoch 40/200\n",
      "71/71 [==============================] - 0s 1ms/step - loss: 0.4849 - recall: 0.7610 - val_loss: 0.4546 - val_recall: 0.7059\n",
      "Epoch 41/200\n",
      "71/71 [==============================] - 0s 1ms/step - loss: 0.4840 - recall: 0.7616 - val_loss: 0.4925 - val_recall: 0.7451\n",
      "Epoch 42/200\n",
      "71/71 [==============================] - 0s 1ms/step - loss: 0.4832 - recall: 0.7600 - val_loss: 0.4983 - val_recall: 0.7598\n",
      "Epoch 43/200\n",
      "71/71 [==============================] - 0s 2ms/step - loss: 0.4824 - recall: 0.7632 - val_loss: 0.5124 - val_recall: 0.7696\n",
      "Epoch 44/200\n",
      "71/71 [==============================] - 0s 2ms/step - loss: 0.4823 - recall: 0.7632 - val_loss: 0.4806 - val_recall: 0.7451\n",
      "Epoch 45/200\n",
      "71/71 [==============================] - 0s 2ms/step - loss: 0.4815 - recall: 0.7621 - val_loss: 0.4673 - val_recall: 0.7255\n",
      "Epoch 46/200\n",
      "71/71 [==============================] - 0s 1ms/step - loss: 0.4798 - recall: 0.7578 - val_loss: 0.5396 - val_recall: 0.8186\n",
      "Epoch 47/200\n",
      "71/71 [==============================] - 0s 2ms/step - loss: 0.4801 - recall: 0.7649 - val_loss: 0.4590 - val_recall: 0.7059\n",
      "Epoch 48/200\n",
      "71/71 [==============================] - 0s 1ms/step - loss: 0.4800 - recall: 0.7529 - val_loss: 0.5227 - val_recall: 0.7843\n",
      "Epoch 49/200\n",
      "71/71 [==============================] - 0s 1ms/step - loss: 0.4786 - recall: 0.7632 - val_loss: 0.4702 - val_recall: 0.7304\n",
      "Epoch 50/200\n",
      "71/71 [==============================] - 0s 1ms/step - loss: 0.4776 - recall: 0.7594 - val_loss: 0.4860 - val_recall: 0.7402\n",
      "Epoch 51/200\n",
      "71/71 [==============================] - 0s 1ms/step - loss: 0.4773 - recall: 0.7632 - val_loss: 0.4280 - val_recall: 0.6422\n",
      "Epoch 52/200\n",
      "71/71 [==============================] - 0s 1ms/step - loss: 0.4781 - recall: 0.7545 - val_loss: 0.4911 - val_recall: 0.7500\n",
      "Epoch 53/200\n",
      "71/71 [==============================] - 0s 1ms/step - loss: 0.4783 - recall: 0.7643 - val_loss: 0.4619 - val_recall: 0.7255\n",
      "Epoch 54/200\n",
      "71/71 [==============================] - 0s 2ms/step - loss: 0.4766 - recall: 0.7567 - val_loss: 0.5589 - val_recall: 0.8088\n",
      "Epoch 55/200\n",
      "71/71 [==============================] - 0s 2ms/step - loss: 0.4770 - recall: 0.7681 - val_loss: 0.4197 - val_recall: 0.6373\n",
      "Epoch 56/200\n",
      "71/71 [==============================] - 0s 1ms/step - loss: 0.4762 - recall: 0.7578 - val_loss: 0.4968 - val_recall: 0.7647\n",
      "Epoch 57/200\n",
      "71/71 [==============================] - 0s 1ms/step - loss: 0.4757 - recall: 0.7638 - val_loss: 0.4893 - val_recall: 0.7500\n",
      "Epoch 58/200\n",
      "71/71 [==============================] - 0s 1ms/step - loss: 0.4754 - recall: 0.7600 - val_loss: 0.4164 - val_recall: 0.6225\n",
      "Epoch 59/200\n",
      "71/71 [==============================] - 0s 1ms/step - loss: 0.4756 - recall: 0.7550 - val_loss: 0.4553 - val_recall: 0.7059\n",
      "Epoch 60/200\n"
     ]
    },
    {
     "name": "stdout",
     "output_type": "stream",
     "text": [
      "71/71 [==============================] - 0s 1ms/step - loss: 0.4747 - recall: 0.7610 - val_loss: 0.4833 - val_recall: 0.7500\n",
      "Epoch 61/200\n",
      "71/71 [==============================] - 0s 1ms/step - loss: 0.4746 - recall: 0.7583 - val_loss: 0.4887 - val_recall: 0.7451\n",
      "Epoch 62/200\n",
      "71/71 [==============================] - 0s 1ms/step - loss: 0.4741 - recall: 0.7670 - val_loss: 0.5340 - val_recall: 0.7794\n",
      "Epoch 63/200\n",
      "71/71 [==============================] - 0s 1ms/step - loss: 0.4737 - recall: 0.7578 - val_loss: 0.5006 - val_recall: 0.7745\n",
      "Epoch 64/200\n",
      "71/71 [==============================] - 0s 2ms/step - loss: 0.4732 - recall: 0.7654 - val_loss: 0.4136 - val_recall: 0.6373\n",
      "Epoch 65/200\n",
      "71/71 [==============================] - 0s 2ms/step - loss: 0.4737 - recall: 0.7572 - val_loss: 0.5142 - val_recall: 0.7745\n",
      "Epoch 66/200\n",
      "71/71 [==============================] - 0s 2ms/step - loss: 0.4735 - recall: 0.7594 - val_loss: 0.5181 - val_recall: 0.7696\n",
      "Epoch 67/200\n",
      "71/71 [==============================] - 0s 1ms/step - loss: 0.4730 - recall: 0.7610 - val_loss: 0.5027 - val_recall: 0.7451\n",
      "Epoch 68/200\n",
      "71/71 [==============================] - 0s 1ms/step - loss: 0.4726 - recall: 0.7621 - val_loss: 0.4716 - val_recall: 0.7402\n",
      "Epoch 69/200\n",
      "71/71 [==============================] - 0s 2ms/step - loss: 0.4721 - recall: 0.7578 - val_loss: 0.4748 - val_recall: 0.7353\n",
      "Epoch 70/200\n",
      "71/71 [==============================] - 0s 1ms/step - loss: 0.4714 - recall: 0.7572 - val_loss: 0.5338 - val_recall: 0.7941\n",
      "Epoch 71/200\n",
      "71/71 [==============================] - 0s 1ms/step - loss: 0.4721 - recall: 0.7643 - val_loss: 0.4243 - val_recall: 0.6569\n",
      "Epoch 72/200\n",
      "71/71 [==============================] - 0s 1ms/step - loss: 0.4722 - recall: 0.7583 - val_loss: 0.5228 - val_recall: 0.7696\n",
      "Epoch 73/200\n",
      "71/71 [==============================] - 0s 1ms/step - loss: 0.4715 - recall: 0.7632 - val_loss: 0.4343 - val_recall: 0.6814\n",
      "Epoch 74/200\n",
      "71/71 [==============================] - 0s 2ms/step - loss: 0.4714 - recall: 0.7578 - val_loss: 0.4903 - val_recall: 0.7353\n",
      "Epoch 75/200\n",
      "71/71 [==============================] - 0s 1ms/step - loss: 0.4710 - recall: 0.7556 - val_loss: 0.5039 - val_recall: 0.7647\n",
      "Epoch 76/200\n",
      "71/71 [==============================] - 0s 2ms/step - loss: 0.4706 - recall: 0.7670 - val_loss: 0.4567 - val_recall: 0.7157\n",
      "Epoch 77/200\n",
      "71/71 [==============================] - 0s 2ms/step - loss: 0.4710 - recall: 0.7610 - val_loss: 0.4771 - val_recall: 0.7353\n",
      "Epoch 78/200\n",
      "71/71 [==============================] - 0s 1ms/step - loss: 0.4701 - recall: 0.7572 - val_loss: 0.4616 - val_recall: 0.7157\n",
      "Epoch 79/200\n",
      "71/71 [==============================] - 0s 1ms/step - loss: 0.4696 - recall: 0.7583 - val_loss: 0.4414 - val_recall: 0.6912\n",
      "Epoch 00079: early stopping\n"
     ]
    },
    {
     "data": {
      "text/plain": [
       "<keras.callbacks.History at 0x27330dddbe0>"
      ]
     },
     "execution_count": 95,
     "metadata": {},
     "output_type": "execute_result"
    }
   ],
   "source": [
    "model = Sequential()\n",
    "\n",
    "model.add(Dense(16, activation=\"relu\"))\n",
    "model.add(Dense(8, activation=\"relu\"))\n",
    "model.add(Dense(1, activation=\"sigmoid\"))\n",
    "\n",
    "model.compile(optimizer=\"rmsprop\",\n",
    "              loss=\"binary_crossentropy\",\n",
    "              metrics=[\"Recall\"])\n",
    "\n",
    "model.fit(x=X_train,\n",
    "          y=y_train,\n",
    "          validation_data=(X_test, y_test),\n",
    "          callbacks=[early_stop],\n",
    "          batch_size=128,\n",
    "          epochs=200,\n",
    "          verbose=1,\n",
    "          class_weight=class_weights)"
   ]
  },
  {
   "cell_type": "code",
   "execution_count": null,
   "metadata": {
    "cell_style": "split",
    "executionInfo": {
     "elapsed": 809,
     "status": "ok",
     "timestamp": 1610205470123,
     "user": {
      "displayName": "Richard C",
      "photoUrl": "",
      "userId": "08040814671867660929"
     },
     "user_tz": -180
    },
    "id": "vQIbjGQduQpQ",
    "scrolled": true
   },
   "outputs": [],
   "source": [
    "loss_df = pd.DataFrame(model.history.history)\n",
    "loss_df.plot()"
   ]
  },
  {
   "cell_type": "code",
   "execution_count": null,
   "metadata": {
    "cell_style": "split",
    "scrolled": false
   },
   "outputs": [],
   "source": [
    "y_pred = model.predict_classes(X_test)\n",
    "print(confusion_matrix(y_test, y_pred))\n",
    "print(classification_report(y_test, y_pred))"
   ]
  },
  {
   "cell_type": "code",
   "execution_count": null,
   "metadata": {},
   "outputs": [],
   "source": [
    "model.save('model_churn.h5')"
   ]
  },
  {
   "cell_type": "markdown",
   "metadata": {
    "heading_collapsed": true,
    "id": "Cq10ovAX6daY"
   },
   "source": [
    "### Prediction"
   ]
  },
  {
   "cell_type": "code",
   "execution_count": null,
   "metadata": {
    "hidden": true
   },
   "outputs": [],
   "source": [
    "single_customer = df.drop('Exited', axis=1).iloc[0]\n",
    "single_customer"
   ]
  },
  {
   "cell_type": "code",
   "execution_count": 96,
   "metadata": {
    "hidden": true
   },
   "outputs": [
    {
     "ename": "NameError",
     "evalue": "name 'single_customer' is not defined",
     "output_type": "error",
     "traceback": [
      "\u001b[1;31m---------------------------------------------------------------------------\u001b[0m",
      "\u001b[1;31mNameError\u001b[0m                                 Traceback (most recent call last)",
      "\u001b[1;32m<ipython-input-96-3ab32e39fc62>\u001b[0m in \u001b[0;36m<module>\u001b[1;34m\u001b[0m\n\u001b[1;32m----> 1\u001b[1;33m \u001b[0msingle_customer\u001b[0m \u001b[1;33m=\u001b[0m \u001b[0mscaler\u001b[0m\u001b[1;33m.\u001b[0m\u001b[0mtransform\u001b[0m\u001b[1;33m(\u001b[0m\u001b[0msingle_customer\u001b[0m\u001b[1;33m.\u001b[0m\u001b[0mvalues\u001b[0m\u001b[1;33m.\u001b[0m\u001b[0mreshape\u001b[0m\u001b[1;33m(\u001b[0m\u001b[1;33m-\u001b[0m\u001b[1;36m1\u001b[0m\u001b[1;33m,\u001b[0m \u001b[1;36m12\u001b[0m\u001b[1;33m)\u001b[0m\u001b[1;33m)\u001b[0m\u001b[1;33m\u001b[0m\u001b[1;33m\u001b[0m\u001b[0m\n\u001b[0m\u001b[0;32m      2\u001b[0m \u001b[0msingle_customer\u001b[0m\u001b[1;31m#direk alamadım scale ettim resahape yaptım\u001b[0m\u001b[1;33m\u001b[0m\u001b[1;33m\u001b[0m\u001b[0m\n",
      "\u001b[1;31mNameError\u001b[0m: name 'single_customer' is not defined"
     ]
    }
   ],
   "source": [
    "single_customer = scaler.transform(single_customer.values.reshape(-1, 12))\n",
    "single_customer#direk alamadım scale ettim resahape yaptım"
   ]
  },
  {
   "cell_type": "code",
   "execution_count": null,
   "metadata": {
    "hidden": true
   },
   "outputs": [],
   "source": [
    "model.predict_classes(single_customer)\n",
    "# tahmin ettim"
   ]
  },
  {
   "cell_type": "code",
   "execution_count": null,
   "metadata": {
    "hidden": true
   },
   "outputs": [],
   "source": [
    "df[\"Exited\"].iloc[0]\n",
    "# gerçek değerine baktım"
   ]
  },
  {
   "cell_type": "markdown",
   "metadata": {
    "hidden": true
   },
   "source": [
    "---\n",
    "---"
   ]
  },
  {
   "cell_type": "markdown",
   "metadata": {},
   "source": [
    "## Comparison with ML"
   ]
  },
  {
   "cell_type": "code",
   "execution_count": null,
   "metadata": {},
   "outputs": [],
   "source": [
    "from sklearn.pipeline import Pipeline\n",
    "from sklearn.ensemble import RandomForestClassifier\n",
    "from sklearn.svm import SVC\n",
    "from sklearn.linear_model import LogisticRegression"
   ]
  },
  {
   "cell_type": "code",
   "execution_count": null,
   "metadata": {},
   "outputs": [],
   "source": [
    "clf1 = RandomForestClassifier(random_state=42, class_weight=\"balanced\")\n",
    "clf2 = SVC(probability=True, random_state=42, class_weight=\"balanced\")\n",
    "#  daprobability\n",
    "clf3 = LogisticRegression(random_state=42, class_weight=\"balanced\")"
   ]
  },
  {
   "cell_type": "code",
   "execution_count": null,
   "metadata": {},
   "outputs": [],
   "source": []
  },
  {
   "cell_type": "code",
   "execution_count": null,
   "metadata": {
    "cell_style": "split"
   },
   "outputs": [],
   "source": [
    "# Initiaze the hyperparameters for each dictionary\n",
    "param1 = {}\n",
    "param1['classifier__n_estimators'] = [10, 50, 100, 250]\n",
    "param1['classifier__max_depth'] = [5, 10, 20]\n",
    "param1['classifier'] = [clf1]\n",
    "\n",
    "param2 = {}\n",
    "param2['classifier__C'] = [10**(-2+i) for i in range(5)]\n",
    "param2['classifier'] = [clf2]\n",
    "\n",
    "param3 = {}\n",
    "param3['classifier__C'] = [10**(-2+i) for i in range(5)]\n",
    "param3['classifier__penalty'] = ['l1', 'l2']\n",
    "param3['classifier'] = [clf3]"
   ]
  },
  {
   "cell_type": "code",
   "execution_count": null,
   "metadata": {
    "cell_style": "split"
   },
   "outputs": [],
   "source": [
    "pipeline = Pipeline([('classifier', clf1)])\n",
    "params = [param1, param2, param3]"
   ]
  },
  {
   "cell_type": "code",
   "execution_count": null,
   "metadata": {
    "cell_style": "center"
   },
   "outputs": [],
   "source": [
    "grid_model = GridSearchCV(pipeline, params, cv=5, n_jobs=-1,\n",
    "                  scoring='recall').fit(X_train, y_train)"
   ]
  },
  {
   "cell_type": "code",
   "execution_count": null,
   "metadata": {
    "cell_style": "center"
   },
   "outputs": [],
   "source": [
    "grid_model.best_params_"
   ]
  },
  {
   "cell_type": "code",
   "execution_count": null,
   "metadata": {
    "cell_style": "center"
   },
   "outputs": [],
   "source": [
    "grid_model.best_score_"
   ]
  },
  {
   "cell_type": "code",
   "execution_count": null,
   "metadata": {
    "cell_style": "split"
   },
   "outputs": [],
   "source": [
    "y_pred_proba = grid_model.predict_proba(X_test)[:, 1]\n",
    "precisions, recalls, thresholds = precision_recall_curve(y_test, y_pred_proba)\n",
    "plt.plot(recalls, precisions, label='RF')\n",
    "plt.xlabel('recalls')\n",
    "plt.ylabel('precisions')\n",
    "plt.title('Precision-Recall curve')\n",
    "plt.show()"
   ]
  },
  {
   "cell_type": "code",
   "execution_count": null,
   "metadata": {
    "cell_style": "split"
   },
   "outputs": [],
   "source": [
    "average_precision_score(y_test, y_pred_proba)"
   ]
  },
  {
   "cell_type": "code",
   "execution_count": null,
   "metadata": {
    "cell_style": "split",
    "scrolled": true
   },
   "outputs": [],
   "source": [
    "y_pred = grid_model.predict(X_test)\n",
    "\n",
    "print(confusion_matrix(y_test, y_pred))\n",
    "print(classification_report(y_test, y_pred))"
   ]
  },
  {
   "cell_type": "markdown",
   "metadata": {},
   "source": [
    "---\n",
    "---"
   ]
  }
 ],
 "metadata": {
  "colab": {
   "authorship_tag": "ABX9TyPKBWWuNpSuP7DHsa+Zpo3l",
   "collapsed_sections": [],
   "name": "Untitled0.ipynb",
   "provenance": []
  },
  "hide_input": false,
  "interpreter": {
   "hash": "e4e90950cb561445fc7289d5187c528b28750a487d008a70b474c773afaf79b7"
  },
  "kernelspec": {
   "display_name": "Python 3",
   "language": "python",
   "name": "python3"
  },
  "language_info": {
   "codemirror_mode": {
    "name": "ipython",
    "version": 3
   },
   "file_extension": ".py",
   "mimetype": "text/x-python",
   "name": "python",
   "nbconvert_exporter": "python",
   "pygments_lexer": "ipython3",
   "version": "3.8.5"
  },
  "varInspector": {
   "cols": {
    "lenName": 16,
    "lenType": 16,
    "lenVar": 40
   },
   "kernels_config": {
    "python": {
     "delete_cmd_postfix": "",
     "delete_cmd_prefix": "del ",
     "library": "var_list.py",
     "varRefreshCmd": "print(var_dic_list())"
    },
    "r": {
     "delete_cmd_postfix": ") ",
     "delete_cmd_prefix": "rm(",
     "library": "var_list.r",
     "varRefreshCmd": "cat(var_dic_list()) "
    }
   },
   "types_to_exclude": [
    "module",
    "function",
    "builtin_function_or_method",
    "instance",
    "_Feature"
   ],
   "window_display": false
  }
 },
 "nbformat": 4,
 "nbformat_minor": 4
}
